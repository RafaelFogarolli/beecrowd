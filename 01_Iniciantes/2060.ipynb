{
 "cells": [
  {
   "cell_type": "markdown",
   "metadata": {},
   "source": [
    "### Problema 2060 - Desafio de Bino"
   ]
  },
  {
   "cell_type": "code",
   "execution_count": null,
   "metadata": {},
   "outputs": [],
   "source": [
    "def multiplos(lista, valor):\n",
    "    total = len([i for i in lista if i%valor == 0])\n",
    "    print(f\"{total} Multiplo(s) de {valor}\")\n",
    "\n",
    "valores = [2, 3, 4, 5]\n",
    "num = int(input())\n",
    "lista = list(map(int, input().split()))\n",
    "[multiplos(lista, i) for i in valores]"
   ]
  }
 ],
 "metadata": {
  "language_info": {
   "name": "python"
  }
 },
 "nbformat": 4,
 "nbformat_minor": 2
}
