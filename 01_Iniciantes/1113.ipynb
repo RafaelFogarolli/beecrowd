{
 "cells": [
  {
   "cell_type": "markdown",
   "metadata": {},
   "source": [
    "### Problema 1113 - Crescente e Decrescente"
   ]
  },
  {
   "cell_type": "code",
   "execution_count": null,
   "metadata": {},
   "outputs": [],
   "source": [
    "while True:\n",
    "\n",
    "    x, y = map(int, input().split())\n",
    "    if x == y: break\n",
    "    elif x > y: print(f\"Decrescente\")\n",
    "    else: print(f\"Crescente\")"
   ]
  }
 ],
 "metadata": {
  "language_info": {
   "name": "python"
  }
 },
 "nbformat": 4,
 "nbformat_minor": 2
}
