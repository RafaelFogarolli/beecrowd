{
 "cells": [
  {
   "cell_type": "markdown",
   "id": "bed6268d",
   "metadata": {},
   "source": [
    "### Problema 1043 - Triângulo"
   ]
  },
  {
   "cell_type": "code",
   "execution_count": null,
   "id": "b477e584",
   "metadata": {},
   "outputs": [],
   "source": [
    "def e_triangulo(a, b, c):\n",
    "\n",
    "    if (a + b) > c:\n",
    "        if (a + c) > b:\n",
    "            if (b + c) > a:\n",
    "                return True\n",
    "    a\n",
    "    return False\n",
    "\n",
    "a, b, c = map(float, input().split())\n",
    "\n",
    "if e_triangulo(a, b, c):\n",
    "    perimetro = a+b+c\n",
    "    print(f\"Perimetro = {perimetro:.1f}\")\n",
    "else:\n",
    "    area = (a+b) * c / 2\n",
    "    print(f\"Area = {area:.1f}\")"
   ]
  }
 ],
 "metadata": {
  "kernelspec": {
   "display_name": ".beecrowd",
   "language": "python",
   "name": "python3"
  },
  "language_info": {
   "codemirror_mode": {
    "name": "ipython",
    "version": 3
   },
   "file_extension": ".py",
   "mimetype": "text/x-python",
   "name": "python",
   "nbconvert_exporter": "python",
   "pygments_lexer": "ipython3",
   "version": "3.12.2"
  }
 },
 "nbformat": 4,
 "nbformat_minor": 5
}
