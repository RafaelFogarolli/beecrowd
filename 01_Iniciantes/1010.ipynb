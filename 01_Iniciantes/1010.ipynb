{
 "cells": [
  {
   "cell_type": "markdown",
   "id": "6056be8a",
   "metadata": {},
   "source": [
    "### Problema 1010 - Cálculo Simples"
   ]
  },
  {
   "cell_type": "code",
   "execution_count": null,
   "id": "fd9c0535",
   "metadata": {},
   "outputs": [],
   "source": [
    "codigo1, quantidade1, preco1 = map(float, input().split())\n",
    "codigo2, quantidade2, preco2 = map(float, input().split())\n",
    "\n",
    "valor_total = (quantidade1 * preco1) + (quantidade2 * preco2)\n",
    "\n",
    "print(f\"VALOR A PAGAR: R$ {valor_total:.2f}\")"
   ]
  }
 ],
 "metadata": {
  "language_info": {
   "name": "python"
  }
 },
 "nbformat": 4,
 "nbformat_minor": 5
}
