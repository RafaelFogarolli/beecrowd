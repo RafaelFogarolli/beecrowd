{
 "cells": [
  {
   "cell_type": "markdown",
   "metadata": {},
   "source": [
    "### Problema 1172 - Substituição em Vetor I"
   ]
  },
  {
   "cell_type": "code",
   "execution_count": null,
   "metadata": {},
   "outputs": [],
   "source": [
    "vetor = [int(input()) for _ in range(10)]\n",
    "[print(f\"X[{i}] = {vetor[i]}\") if vetor[i] > 0 else print(f\"X[{i}] = 1\") for i in range(10)]"
   ]
  }
 ],
 "metadata": {
  "language_info": {
   "name": "python"
  }
 },
 "nbformat": 4,
 "nbformat_minor": 2
}
