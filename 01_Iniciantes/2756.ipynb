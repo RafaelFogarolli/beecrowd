{
 "cells": [
  {
   "cell_type": "markdown",
   "metadata": {},
   "source": [
    "### Problema 2756 - Saída 10"
   ]
  },
  {
   "cell_type": "code",
   "execution_count": null,
   "metadata": {},
   "outputs": [],
   "source": [
    "letras = [\"A\", \"B\", \"C\", \"D\", \"E\"]\n",
    "\n",
    "print(\" \" * 7 + f\"{letras[0]}\")\n",
    "for i in range(1,5):\n",
    "    print(\" \" * (7 - i) + f\"{letras[i]}\" + \" \" * (2*i-1) + f\"{letras[i]}\" )\n",
    "for i in range(3, 0, -1):\n",
    "    print(\" \" * (7 - i) + f\"{letras[i]}\" + \" \" * (2*i-1) + f\"{letras[i]}\" )\n",
    "print(\" \" * 7 + f\"{letras[0]}\")\n",
    "\n",
    "    "
   ]
  }
 ],
 "metadata": {
  "language_info": {
   "name": "python"
  }
 },
 "nbformat": 4,
 "nbformat_minor": 2
}
