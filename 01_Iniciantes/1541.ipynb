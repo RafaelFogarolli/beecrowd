{
 "cells": [
  {
   "cell_type": "markdown",
   "metadata": {},
   "source": [
    "### Problema 1541 - Construindo Casas"
   ]
  },
  {
   "cell_type": "code",
   "execution_count": null,
   "metadata": {},
   "outputs": [],
   "source": [
    "while True:\n",
    "    try:\n",
    "        lado01, lado02, percentual = map(int, input().split())\n",
    "        area_casa = lado01 * lado02 \n",
    "        area_terreno = area_casa/percentual*100\n",
    "        lado_terreno = int(area_terreno**(1/2))\n",
    "        print(f\"{lado_terreno}\")\n",
    "    except: break"
   ]
  }
 ],
 "metadata": {
  "language_info": {
   "name": "python"
  }
 },
 "nbformat": 4,
 "nbformat_minor": 2
}
