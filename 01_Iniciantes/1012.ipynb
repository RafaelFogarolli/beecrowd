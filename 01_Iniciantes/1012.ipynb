{
 "cells": [
  {
   "cell_type": "markdown",
   "id": "d61314c1",
   "metadata": {},
   "source": [
    "### Problema 1012 - Área"
   ]
  },
  {
   "cell_type": "code",
   "execution_count": null,
   "id": "6d646e4b",
   "metadata": {},
   "outputs": [],
   "source": [
    "primeiro_valor, segundo_valor, terceiro_valor = map(float, input().split())\n",
    "\n",
    "area_triangulo = (primeiro_valor * terceiro_valor)/2\n",
    "print(f\"TRIANGULO: {area_triangulo:.3f}\")\n",
    "\n",
    "area_circulo = terceiro_valor**2 * (3.14159)\n",
    "print(f\"CIRCULO: {area_circulo:.3f}\")\n",
    "\n",
    "area_trapezio = (primeiro_valor + segundo_valor) * terceiro_valor / 2\n",
    "print(f\"TRAPEZIO: {area_trapezio:.3f}\")\n",
    "\n",
    "area_quadrado = segundo_valor * segundo_valor\n",
    "print(f\"QUADRADO: {area_quadrado:.3f}\")\n",
    "\n",
    "area_retangulo = primeiro_valor * segundo_valor\n",
    "print(f\"RETANGULO: {area_retangulo:.3f}\")"
   ]
  }
 ],
 "metadata": {
  "language_info": {
   "name": "python"
  }
 },
 "nbformat": 4,
 "nbformat_minor": 5
}
