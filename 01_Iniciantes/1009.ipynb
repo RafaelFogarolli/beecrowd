{
 "cells": [
  {
   "cell_type": "markdown",
   "id": "ee72e4e0",
   "metadata": {},
   "source": [
    "### Problema 1009 - Salário com Bônus"
   ]
  },
  {
   "cell_type": "code",
   "execution_count": null,
   "id": "ea627e3f",
   "metadata": {},
   "outputs": [],
   "source": [
    "nome_funcionario = input()\n",
    "salario = float(input())\n",
    "total_vendas = float(input()) * 0.15\n",
    "\n",
    "print(f\"TOTAL = R$ {total_vendas + salario:.2f}\")"
   ]
  }
 ],
 "metadata": {
  "language_info": {
   "name": "python"
  }
 },
 "nbformat": 4,
 "nbformat_minor": 5
}
