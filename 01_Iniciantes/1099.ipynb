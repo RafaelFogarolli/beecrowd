{
 "cells": [
  {
   "cell_type": "markdown",
   "metadata": {},
   "source": [
    "### Problema 1099 - Soma de Ímpares Consecutivos II"
   ]
  },
  {
   "cell_type": "code",
   "execution_count": null,
   "metadata": {},
   "outputs": [],
   "source": [
    "total_testes = int(input())\n",
    "for _ in range(total_testes):\n",
    "    \n",
    "    primeiro_valor, segundo_valor = sorted(list(map(int, input().split())))\n",
    "    soma = 0\n",
    "    for i in range((primeiro_valor + 1), segundo_valor):\n",
    "        if i % 2 == 1:\n",
    "            soma += i\n",
    "\n",
    "    print(f\"{soma}\")"
   ]
  }
 ],
 "metadata": {
  "language_info": {
   "name": "python"
  }
 },
 "nbformat": 4,
 "nbformat_minor": 2
}
