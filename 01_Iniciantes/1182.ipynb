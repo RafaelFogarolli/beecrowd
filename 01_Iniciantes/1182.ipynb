{
 "cells": [
  {
   "cell_type": "markdown",
   "metadata": {},
   "source": [
    "### Problem 1182 - Coluna na Matriz"
   ]
  },
  {
   "cell_type": "code",
   "execution_count": null,
   "metadata": {},
   "outputs": [],
   "source": [
    "coluna = int(input())\n",
    "caracter = input()\n",
    "\n",
    "soma = sum([sum([float(input()) if i == coluna else float(input()) * 0 for i in range(12)]) for _ in range(12)])\n",
    "\n",
    "if caracter == 'S': print(f\"{soma:.1f}\")\n",
    "else: print(f\"{soma/12:.1f}\")"
   ]
  }
 ],
 "metadata": {
  "language_info": {
   "name": "python"
  }
 },
 "nbformat": 4,
 "nbformat_minor": 2
}
