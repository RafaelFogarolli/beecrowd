{
 "cells": [
  {
   "cell_type": "markdown",
   "id": "8c5f3217",
   "metadata": {},
   "source": [
    "### Problema 1040 - Média 3"
   ]
  },
  {
   "cell_type": "code",
   "execution_count": null,
   "id": "df9aa02e",
   "metadata": {},
   "outputs": [],
   "source": [
    "def aprovado(media, corte):\n",
    "    if media >= corte:\n",
    "        print(f\"Aluno aprovado.\")\n",
    "    else:\n",
    "        print(f\"Aluno reprovado.\")\n",
    "\n",
    "\n",
    "nota01, nota02, nota03, nota04 = map(float, input().split())\n",
    "media = (nota01 * 2) + (nota02 * 3) + (nota03 * 4) + (nota04 * 1)\n",
    "media /= 10\n",
    "\n",
    "print(f\"Media: {media:.1f}\")\n",
    "\n",
    "if (media >= 5) & (media < 7):\n",
    "    print(\"Aluno em exame.\")\n",
    "    nota_exame = float(input())\n",
    "    print(f\"Nota do exame: {nota_exame:.1f}\")\n",
    "    media = (media + nota_exame)/2\n",
    "    aprovado(media, 5)\n",
    "    print(f\"Media final: {media:.1f}\")\n",
    "else:\n",
    "    aprovado(media, 7)"
   ]
  }
 ],
 "metadata": {
  "kernelspec": {
   "display_name": ".beecrowd",
   "language": "python",
   "name": "python3"
  },
  "language_info": {
   "codemirror_mode": {
    "name": "ipython",
    "version": 3
   },
   "file_extension": ".py",
   "mimetype": "text/x-python",
   "name": "python",
   "nbconvert_exporter": "python",
   "pygments_lexer": "ipython3",
   "version": "3.12.2"
  }
 },
 "nbformat": 4,
 "nbformat_minor": 5
}
