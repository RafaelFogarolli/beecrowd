{
 "cells": [
  {
   "cell_type": "markdown",
   "metadata": {},
   "source": [
    "### Problema 1165 - Número Primo"
   ]
  },
  {
   "cell_type": "code",
   "execution_count": null,
   "metadata": {},
   "outputs": [],
   "source": [
    "testes = int(input())\n",
    "for _ in range(testes):\n",
    "    numero = int(input())\n",
    "    divisores = [i for i in range(2, (numero)) if numero%i == 0]\n",
    "\n",
    "    if len(divisores) == 0: print(f\"{numero} eh primo\")\n",
    "    else: print(f\"{numero} nao eh primo\")"
   ]
  }
 ],
 "metadata": {
  "language_info": {
   "name": "python"
  }
 },
 "nbformat": 4,
 "nbformat_minor": 2
}
