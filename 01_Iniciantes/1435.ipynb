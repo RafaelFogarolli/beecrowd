{
 "cells": [
  {
   "cell_type": "markdown",
   "metadata": {},
   "source": [
    "### Problema 1435 - Matriz Quadrada I"
   ]
  },
  {
   "cell_type": "code",
   "execution_count": null,
   "metadata": {},
   "outputs": [],
   "source": [
    "def create_matriz(numero):\n",
    "    matriz = [[ 0 for _ in range(numero)] for _ in range(numero)]\n",
    "\n",
    "    metade = numero//2\n",
    "    if numero%2 == 1: metade += 1\n",
    "\n",
    "    for i in range(metade):\n",
    "        for ii in range(numero):\n",
    "            if (i == 0) | (ii == 0) | (i == (numero-1)) | (ii == (numero-1)): matriz[i][ii] = 1\n",
    "            elif matriz[i-1][ii-1] < matriz[i-1][ii+1]: matriz[i][ii] = matriz[i-1][ii-1] + 1\n",
    "            else: matriz[i][ii] = matriz[i-1][ii+1] + 1\n",
    "\n",
    "    for i in range(metade): matriz[numero-1-i] = matriz[i]\n",
    "\n",
    "    return matriz\n",
    "\n",
    "\n",
    "while True:\n",
    "\n",
    "        numero = int(input())\n",
    "        if numero == 0: break        \n",
    "        matriz = create_matriz(numero)\n",
    "        [[print(f\"{i:3d} \", end = \"\") if idx+1 < numero else print(f\"{i:3d}\") for idx, i in enumerate(vec)] for vec in matriz]\n",
    "        print()"
   ]
  }
 ],
 "metadata": {
  "language_info": {
   "name": "python"
  }
 },
 "nbformat": 4,
 "nbformat_minor": 2
}
