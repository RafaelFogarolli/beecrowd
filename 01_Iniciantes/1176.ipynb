{
 "cells": [
  {
   "cell_type": "markdown",
   "metadata": {},
   "source": [
    "### Problema 1176 - Fibonacci em Vetor"
   ]
  },
  {
   "cell_type": "code",
   "execution_count": null,
   "metadata": {},
   "outputs": [],
   "source": [
    "def fibonnaci(serie):\n",
    "    \n",
    "    lista = [0, 1]\n",
    "    for _ in range(2, serie+1):\n",
    "        lista.append(lista[-1] + lista[-2])\n",
    "\n",
    "    return lista[serie]\n",
    "\n",
    "testes = int(input())\n",
    "for _ in range(testes):\n",
    "    numero = int(input())\n",
    "    print(f\"Fib({numero}) = {fibonnaci(numero)}\") "
   ]
  }
 ],
 "metadata": {
  "language_info": {
   "name": "python"
  }
 },
 "nbformat": 4,
 "nbformat_minor": 2
}
