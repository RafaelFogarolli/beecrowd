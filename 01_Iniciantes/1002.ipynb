{
 "cells": [
  {
   "cell_type": "markdown",
   "id": "24928eaa",
   "metadata": {},
   "source": [
    "### Problema 1002 - Área do Círculo"
   ]
  },
  {
   "cell_type": "code",
   "execution_count": null,
   "id": "9dcface5",
   "metadata": {},
   "outputs": [],
   "source": [
    "raio = float(input())\n",
    "pi = 3.14159\n",
    "\n",
    "area_circulo = pi * raio**2\n",
    "\n",
    "print(f\"A={area_circulo:.4f}\")"
   ]
  }
 ],
 "metadata": {
  "language_info": {
   "name": "python"
  }
 },
 "nbformat": 4,
 "nbformat_minor": 5
}
