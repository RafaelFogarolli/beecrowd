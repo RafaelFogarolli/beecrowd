{
 "cells": [
  {
   "cell_type": "markdown",
   "id": "c816d0d7",
   "metadata": {},
   "source": [
    "### Problema 1004 - Produto Simples"
   ]
  },
  {
   "cell_type": "code",
   "execution_count": null,
   "id": "bd61833c",
   "metadata": {},
   "outputs": [],
   "source": [
    "primeiro_valor = int(input())\n",
    "segundo_valor = int(input())\n",
    "\n",
    "print(f\"PROD = {primeiro_valor * segundo_valor}\")"
   ]
  }
 ],
 "metadata": {
  "language_info": {
   "name": "python"
  }
 },
 "nbformat": 4,
 "nbformat_minor": 5
}
