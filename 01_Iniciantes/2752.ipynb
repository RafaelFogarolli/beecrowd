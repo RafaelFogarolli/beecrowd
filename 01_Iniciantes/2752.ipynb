{
 "cells": [
  {
   "cell_type": "markdown",
   "metadata": {},
   "source": [
    "### Problema 2752 - Saída 6"
   ]
  },
  {
   "cell_type": "code",
   "execution_count": null,
   "metadata": {},
   "outputs": [],
   "source": [
    "txt = \"AMO FAZER EXERCICIO NO URI\"\n",
    "print(f\"<{txt}>\")\n",
    "print(f\"<{txt:>30}>\")\n",
    "print(f\"<{txt[0:20]}>\")\n",
    "print(f\"<{txt}>\")\n",
    "print(f\"<{txt:<30}>\")\n",
    "print(f\"<{txt}>\")\n",
    "print(f\"<{txt[0:20]:>30}>\")\n",
    "print(f\"<{txt[0:20]:<30}>\")"
   ]
  }
 ],
 "metadata": {
  "kernelspec": {
   "display_name": ".beecrowd",
   "language": "python",
   "name": "python3"
  },
  "language_info": {
   "codemirror_mode": {
    "name": "ipython",
    "version": 3
   },
   "file_extension": ".py",
   "mimetype": "text/x-python",
   "name": "python",
   "nbconvert_exporter": "python",
   "pygments_lexer": "ipython3",
   "version": "3.12.2"
  }
 },
 "nbformat": 4,
 "nbformat_minor": 2
}
