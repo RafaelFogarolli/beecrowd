{
 "cells": [
  {
   "cell_type": "markdown",
   "metadata": {},
   "source": [
    "### Problema 1079 - Médias Ponderadas"
   ]
  },
  {
   "cell_type": "code",
   "execution_count": null,
   "metadata": {},
   "outputs": [],
   "source": [
    "casos_testes = int(input())\n",
    "for i in range(casos_testes):\n",
    "    n1, n2, n3 = map(float, input().split())\n",
    "    nota = (n1 * 2 + n2 * 3 + n3 * 5)/10\n",
    "    print(f\"{nota:.1f}\")"
   ]
  }
 ],
 "metadata": {
  "language_info": {
   "name": "python"
  }
 },
 "nbformat": 4,
 "nbformat_minor": 2
}
