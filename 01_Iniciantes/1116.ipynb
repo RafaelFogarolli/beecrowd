{
 "cells": [
  {
   "cell_type": "markdown",
   "metadata": {},
   "source": [
    "### Problema 1116 - Dividindo X por Y"
   ]
  },
  {
   "cell_type": "code",
   "execution_count": null,
   "metadata": {},
   "outputs": [],
   "source": [
    "total_teste = int(input())\n",
    "for _ in range(total_teste):\n",
    "    x, y = map(int, input().split())\n",
    "    try: print(f\"{(x/y):.1f}\")\n",
    "    except: print(f\"divisao impossivel\")"
   ]
  }
 ],
 "metadata": {
  "language_info": {
   "name": "python"
  }
 },
 "nbformat": 4,
 "nbformat_minor": 2
}
