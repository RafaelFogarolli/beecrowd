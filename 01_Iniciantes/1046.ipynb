{
 "cells": [
  {
   "cell_type": "markdown",
   "id": "6232512a",
   "metadata": {},
   "source": [
    "### Problema 1046 - Tempo de Jogo"
   ]
  },
  {
   "cell_type": "code",
   "execution_count": null,
   "id": "071e5df4",
   "metadata": {},
   "outputs": [],
   "source": [
    "hora_inicio, hora_final = map(int, input().split())\n",
    "\n",
    "if hora_inicio == hora_final:\n",
    "    print(f\"O JOGO DUROU 24 HORA(S)\")\n",
    "elif hora_final < hora_inicio:\n",
    "    duracao = hora_final + 24 - hora_inicio\n",
    "    print(f\"O JOGO DUROU {duracao} HORA(S)\")\n",
    "else:\n",
    "    duracao = hora_final - hora_inicio\n",
    "    print(f\"O JOGO DUROU {duracao} HORA(S)\")\n"
   ]
  }
 ],
 "metadata": {
  "language_info": {
   "name": "python"
  }
 },
 "nbformat": 4,
 "nbformat_minor": 5
}
