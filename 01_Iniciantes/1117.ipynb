{
 "cells": [
  {
   "cell_type": "markdown",
   "metadata": {},
   "source": [
    "### Problema 1117 - Validação de Nota"
   ]
  },
  {
   "cell_type": "code",
   "execution_count": null,
   "metadata": {},
   "outputs": [],
   "source": [
    "media = [0, 0]\n",
    "while True:\n",
    "    nota = float(input())\n",
    "    if (0 <= nota <= 10): \n",
    "        media[0] += nota\n",
    "        media[1] += 1\n",
    "    else: print(f\"nota invalida\")\n",
    "    if media[1] == 2: break    \n",
    "    \n",
    "print(f\"media = {(media[0]/2):.2f}\")"
   ]
  }
 ],
 "metadata": {
  "language_info": {
   "name": "python"
  }
 },
 "nbformat": 4,
 "nbformat_minor": 2
}
