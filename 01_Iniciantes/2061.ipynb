{
 "cells": [
  {
   "cell_type": "markdown",
   "metadata": {},
   "source": [
    "### Problema 2061 - As Abas de Péricles"
   ]
  },
  {
   "cell_type": "code",
   "execution_count": null,
   "metadata": {},
   "outputs": [],
   "source": [
    "abas, acoes = map(int, input().split())\n",
    "abas = abas + sum([1 if input() == \"fechou\" else -1 for i in range(acoes)])\n",
    "print(f\"{abas}\")"
   ]
  }
 ],
 "metadata": {
  "language_info": {
   "name": "python"
  }
 },
 "nbformat": 4,
 "nbformat_minor": 2
}
