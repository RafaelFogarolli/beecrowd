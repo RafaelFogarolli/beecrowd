{
 "cells": [
  {
   "cell_type": "markdown",
   "metadata": {},
   "source": [
    "### Problema 1098 - Sequencia IJ 4"
   ]
  },
  {
   "cell_type": "code",
   "execution_count": null,
   "metadata": {},
   "outputs": [],
   "source": [
    "for i in range(11):\n",
    "    for j in range(1,4):\n",
    "        if i%5 == 0: print(f\"I={int(0.2*i)} J={int(j+(0.2 * i))}\")\n",
    "        else: print(f\"I={0.2*i:.1f} J={j+(0.2 * i):.1f}\")"
   ]
  }
 ],
 "metadata": {
  "language_info": {
   "name": "python"
  }
 },
 "nbformat": 4,
 "nbformat_minor": 2
}
