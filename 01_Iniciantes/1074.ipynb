{
 "cells": [
  {
   "cell_type": "markdown",
   "metadata": {},
   "source": [
    "### Problema 1074 - Par ou Ímpar"
   ]
  },
  {
   "cell_type": "code",
   "execution_count": null,
   "metadata": {},
   "outputs": [],
   "source": [
    "total_valores = int(input())\n",
    "for _ in range(total_valores):\n",
    "    x = int(input())\n",
    "\n",
    "    output = \"\"\n",
    "    if x == 0: output += \"NULL\"\n",
    "    else:\n",
    "        if x%2 == 0: output += \"EVEN \"\n",
    "        else: output += \"ODD \"\n",
    "        if x > 0: output += \"POSITIVE\"\n",
    "        else: output += \"NEGATIVE\"\n",
    "\n",
    "    print(f\"{output}\")\n"
   ]
  }
 ],
 "metadata": {
  "language_info": {
   "name": "python"
  }
 },
 "nbformat": 4,
 "nbformat_minor": 2
}
