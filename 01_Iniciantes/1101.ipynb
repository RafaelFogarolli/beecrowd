{
 "cells": [
  {
   "cell_type": "markdown",
   "metadata": {},
   "source": [
    "### Problema 1101 - Sequência de Números e Soma"
   ]
  },
  {
   "cell_type": "code",
   "execution_count": null,
   "metadata": {},
   "outputs": [],
   "source": [
    "while True:\n",
    "\n",
    "    x, y = sorted(map(int, input().split()))\n",
    "    if (x <= 0) | (y <= 0): break\n",
    "\n",
    "    intervalo = range(x, y+1)\n",
    "    [print(f\"{i} \", end='') for i in intervalo]\n",
    "    print(f\"Sum={sum(intervalo)}\")    "
   ]
  }
 ],
 "metadata": {
  "kernelspec": {
   "display_name": ".beecrowd",
   "language": "python",
   "name": "python3"
  },
  "language_info": {
   "codemirror_mode": {
    "name": "ipython",
    "version": 3
   },
   "file_extension": ".py",
   "mimetype": "text/x-python",
   "name": "python",
   "nbconvert_exporter": "python",
   "pygments_lexer": "ipython3",
   "version": "3.12.2"
  }
 },
 "nbformat": 4,
 "nbformat_minor": 2
}
