{
 "cells": [
  {
   "cell_type": "markdown",
   "id": "26f0f327",
   "metadata": {},
   "source": [
    "### Problema 1044 - Múltiplos"
   ]
  },
  {
   "cell_type": "code",
   "execution_count": null,
   "id": "c12678be",
   "metadata": {},
   "outputs": [],
   "source": [
    "a, b = map(int, input().split())\n",
    "if (a%b == 0) | (b%a == 0):\n",
    "    print(\"Sao Multiplos\")\n",
    "else:\n",
    "    print(\"Nao sao Multiplos\")"
   ]
  }
 ],
 "metadata": {
  "language_info": {
   "name": "python"
  }
 },
 "nbformat": 4,
 "nbformat_minor": 5
}
