{
 "cells": [
  {
   "cell_type": "markdown",
   "id": "08d46b34",
   "metadata": {},
   "source": [
    "### Probelma 1041 - Coordenadas de um Ponto"
   ]
  },
  {
   "cell_type": "code",
   "execution_count": null,
   "id": "60b1c513",
   "metadata": {},
   "outputs": [],
   "source": [
    "def quadrante(x , y):\n",
    "    if (x > 0) & (y > 0): print(\"Q1\")\n",
    "    elif (x < 0) & (y > 0): print(\"Q2\")\n",
    "    elif (x < 0) & (y < 0): print(\"Q3\")\n",
    "    else: print(\"Q4\")\n",
    "\n",
    "x, y = map(float, input().split())\n",
    "\n",
    "if (x == 0) & (y == 0):\n",
    "    print(\"Origem\")\n",
    "else:\n",
    "    quadrante(x, y)\n"
   ]
  }
 ],
 "metadata": {
  "kernelspec": {
   "display_name": ".beecrowd",
   "language": "python",
   "name": "python3"
  },
  "language_info": {
   "codemirror_mode": {
    "name": "ipython",
    "version": 3
   },
   "file_extension": ".py",
   "mimetype": "text/x-python",
   "name": "python",
   "nbconvert_exporter": "python",
   "pygments_lexer": "ipython3",
   "version": "3.12.2"
  }
 },
 "nbformat": 4,
 "nbformat_minor": 5
}
