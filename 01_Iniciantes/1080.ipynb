{
 "cells": [
  {
   "cell_type": "markdown",
   "metadata": {},
   "source": [
    "### Problema 1080 - Maior e Posição"
   ]
  },
  {
   "cell_type": "code",
   "execution_count": null,
   "metadata": {},
   "outputs": [],
   "source": [
    "lista = [int(input()) for i in range(100)]\n",
    "maior_valor = max(lista)\n",
    "posicao_valor = lista.index(maior_valor)\n",
    "\n",
    "print(f\"{maior_valor}\\n{posicao_valor+1}\")"
   ]
  }
 ],
 "metadata": {
  "language_info": {
   "name": "python"
  }
 },
 "nbformat": 4,
 "nbformat_minor": 2
}
