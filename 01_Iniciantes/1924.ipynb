{
 "cells": [
  {
   "cell_type": "markdown",
   "metadata": {},
   "source": [
    "### Problema 1924 - Vitória e a Indecisão"
   ]
  },
  {
   "cell_type": "code",
   "execution_count": null,
   "metadata": {},
   "outputs": [],
   "source": [
    "total_cursos = int(input())\n",
    "\n",
    "for _ in range(total_cursos): nome = input()\n",
    "print(f\"Ciencia da Computacao\")\n",
    "    "
   ]
  }
 ],
 "metadata": {
  "language_info": {
   "name": "python"
  }
 },
 "nbformat": 4,
 "nbformat_minor": 2
}
