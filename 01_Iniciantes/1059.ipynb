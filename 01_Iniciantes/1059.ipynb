{
 "cells": [
  {
   "cell_type": "markdown",
   "id": "69c485a9",
   "metadata": {},
   "source": [
    "### Problema 1059 - Número Pares"
   ]
  },
  {
   "cell_type": "code",
   "execution_count": null,
   "id": "34917350",
   "metadata": {},
   "outputs": [],
   "source": [
    "for i in range(2,101,2):\n",
    "    print(i)"
   ]
  }
 ],
 "metadata": {
  "language_info": {
   "name": "python"
  }
 },
 "nbformat": 4,
 "nbformat_minor": 5
}
