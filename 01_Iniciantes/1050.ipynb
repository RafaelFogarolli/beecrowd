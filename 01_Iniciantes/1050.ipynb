{
 "cells": [
  {
   "cell_type": "markdown",
   "id": "42adb0fd",
   "metadata": {},
   "source": [
    "### Problema 1050 - DDD"
   ]
  },
  {
   "cell_type": "code",
   "execution_count": null,
   "id": "e611294b",
   "metadata": {},
   "outputs": [],
   "source": [
    "ddd = { 61 : \"Brasilia\",\n",
    "        71 : \"Salvador\",\n",
    "        11 : \"Sao Paulo\",\n",
    "        21 : \"Rio de Janeiro\",\n",
    "        32 : \"Juiz de Fora\",\n",
    "        19 : \"Campinas\",\n",
    "        27 : \"Vitoria\",\n",
    "        31 : \"Belo Horizonte\",\n",
    "        }\n",
    "\n",
    "numero = int(input())\n",
    "if numero in ddd.keys():\n",
    "    print(f\"{ddd[numero]}\")\n",
    "else:\n",
    "    print(f\"DDD nao cadastrado\")"
   ]
  }
 ],
 "metadata": {
  "language_info": {
   "name": "python"
  }
 },
 "nbformat": 4,
 "nbformat_minor": 5
}
