{
 "cells": [
  {
   "cell_type": "markdown",
   "metadata": {},
   "source": [
    "### Problema 1164 - Número Perfeito"
   ]
  },
  {
   "cell_type": "code",
   "execution_count": null,
   "metadata": {},
   "outputs": [],
   "source": [
    "testes = int(input())\n",
    "for _ in range(testes):\n",
    "    numero = int(input())\n",
    "    soma = sum([i for i in range(1, (numero)) if numero%i == 0])\n",
    "\n",
    "    if soma == numero: print(f\"{numero} eh perfeito\")\n",
    "    else: print(f\"{numero} nao eh perfeito\")"
   ]
  }
 ],
 "metadata": {
  "language_info": {
   "name": "python"
  }
 },
 "nbformat": 4,
 "nbformat_minor": 2
}
