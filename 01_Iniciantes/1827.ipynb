{
 "cells": [
  {
   "cell_type": "markdown",
   "metadata": {},
   "source": [
    "### Problema 1827 - Matriz Quadrada IV"
   ]
  },
  {
   "cell_type": "code",
   "execution_count": null,
   "metadata": {},
   "outputs": [],
   "source": [
    "while True:\n",
    "    try:\n",
    "        numero = int(input())\n",
    "        matriz = [[-1 for _ in range(numero)] for _ in range(numero)]\n",
    "\n",
    "        q1 = numero//3\n",
    "        meio = numero//2\n",
    "        for i in range(numero):\n",
    "            for ii in range(numero):\n",
    "\n",
    "                if (i >= q1) & (i <= numero-1-q1) & (ii >= q1) & (ii <= numero-1-q1): matriz[i][ii] = 1\n",
    "                elif (i == ii): matriz[i][ii] = 2\n",
    "                elif (i+ii == numero-1): matriz[i][ii] = 3\n",
    "                else: matriz[i][ii] = 0\n",
    "\n",
    "        matriz[meio][meio] = 4\n",
    "        [[print(f\"{matriz[i][ii]}\", end=\"\") if i != numero-1 else print(f\"{matriz[i][ii]}\") for i in range(numero)] for ii in range(numero)]\n",
    "        print()\n",
    "    except: break"
   ]
  }
 ],
 "metadata": {
  "kernelspec": {
   "display_name": ".beecrowd",
   "language": "python",
   "name": "python3"
  },
  "language_info": {
   "codemirror_mode": {
    "name": "ipython",
    "version": 3
   },
   "file_extension": ".py",
   "mimetype": "text/x-python",
   "name": "python",
   "nbconvert_exporter": "python",
   "pygments_lexer": "ipython3",
   "version": "3.12.2"
  }
 },
 "nbformat": 4,
 "nbformat_minor": 2
}
