{
 "cells": [
  {
   "cell_type": "markdown",
   "id": "02be9a25",
   "metadata": {},
   "source": [
    "### Problema 1038 - Lanche"
   ]
  },
  {
   "cell_type": "code",
   "execution_count": null,
   "id": "1e2dbca3",
   "metadata": {},
   "outputs": [],
   "source": [
    "produtos = {1 : 4.0, 2 : 4.5, 3 : 5.0, 4 : 2.0, 5 : 1.5}\n",
    "\n",
    "codigo_item, quantidade = map(int, input().split())\n",
    "\n",
    "total = produtos[codigo_item] * quantidade\n",
    "\n",
    "print(f\"Total: R$ {total:.2f}\")\n"
   ]
  }
 ],
 "metadata": {
  "kernelspec": {
   "display_name": ".beecrowd",
   "language": "python",
   "name": "python3"
  },
  "language_info": {
   "codemirror_mode": {
    "name": "ipython",
    "version": 3
   },
   "file_extension": ".py",
   "mimetype": "text/x-python",
   "name": "python",
   "nbconvert_exporter": "python",
   "pygments_lexer": "ipython3",
   "version": "3.12.2"
  }
 },
 "nbformat": 4,
 "nbformat_minor": 5
}
