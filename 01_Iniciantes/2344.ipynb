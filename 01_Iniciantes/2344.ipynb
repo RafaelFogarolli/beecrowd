{
 "cells": [
  {
   "cell_type": "markdown",
   "metadata": {},
   "source": [
    "### Problema 2344 - Notas da Prova"
   ]
  },
  {
   "cell_type": "code",
   "execution_count": null,
   "metadata": {},
   "outputs": [],
   "source": [
    "dicionario = {0 : \"E\", 35 : \"D\", 60 : \"C\", 85 : \"B\", 100 : \"A\"}\n",
    "nota = int(input())\n",
    "\n",
    "for i in dicionario:\n",
    "    if nota <= i: \n",
    "        print(f\"{dicionario[i]}\")\n",
    "        break"
   ]
  }
 ],
 "metadata": {
  "language_info": {
   "name": "python"
  }
 },
 "nbformat": 4,
 "nbformat_minor": 2
}
