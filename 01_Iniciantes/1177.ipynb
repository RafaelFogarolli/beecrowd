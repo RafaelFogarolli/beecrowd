{
 "cells": [
  {
   "cell_type": "markdown",
   "metadata": {},
   "source": [
    "### Problema 1177 - Preenchimento de Vetor II"
   ]
  },
  {
   "cell_type": "code",
   "execution_count": null,
   "metadata": {},
   "outputs": [],
   "source": [
    "valor = int(input())\n",
    "x = 0\n",
    "for i in range(1000):\n",
    "    print(f\"N[{i}] = {x}\")\n",
    "    x += 1\n",
    "    if x == valor: x = 0"
   ]
  }
 ],
 "metadata": {
  "language_info": {
   "name": "python"
  }
 },
 "nbformat": 4,
 "nbformat_minor": 2
}
