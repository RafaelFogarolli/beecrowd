{
 "cells": [
  {
   "cell_type": "markdown",
   "id": "9c8548dd",
   "metadata": {},
   "source": [
    "### Problema 1013 - O Maior"
   ]
  },
  {
   "cell_type": "code",
   "execution_count": null,
   "id": "439f6fd2",
   "metadata": {},
   "outputs": [],
   "source": [
    "def maiorAB(x, y):\n",
    "    return (x + y + abs(x - y))//2\n",
    "\n",
    "valor1, valor2, valor3 = map(int, input().split())\n",
    "\n",
    "comp1 = maiorAB(valor1, valor2)\n",
    "comp2 = maiorAB(valor2, valor3)\n",
    "maior = maiorAB(comp1, comp2)\n",
    "\n",
    "print(f\"{maior} eh o maior\")\n"
   ]
  }
 ],
 "metadata": {
  "language_info": {
   "name": "python"
  }
 },
 "nbformat": 4,
 "nbformat_minor": 5
}
