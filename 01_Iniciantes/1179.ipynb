{
 "cells": [
  {
   "cell_type": "markdown",
   "metadata": {},
   "source": [
    "### Problema 1179 - Preenchimento de Vetor IV"
   ]
  },
  {
   "cell_type": "code",
   "execution_count": null,
   "metadata": {},
   "outputs": [],
   "source": [
    "def exibicao(vetor, txt):\n",
    "    [print(f\"{txt}[{idx}] = {i}\") for idx, i in enumerate(vetor)]\n",
    "    return []\n",
    "\n",
    "par, impar = [], []\n",
    "\n",
    "for _ in range(15):\n",
    "\n",
    "    numero = int(input())\n",
    "    if numero%2 == 0: par.append(numero)\n",
    "    else: impar.append(numero)\n",
    "\n",
    "    if len(par) == 5: par = exibicao(par, \"par\")\n",
    "    if len(impar) == 5: impar = exibicao(impar, \"impar\") \n",
    "\n",
    "\n",
    "impar = exibicao(impar, \"impar\") \n",
    "par = exibicao(par, \"par\")\n",
    "\n",
    "    \n"
   ]
  }
 ],
 "metadata": {
  "language_info": {
   "name": "python"
  }
 },
 "nbformat": 4,
 "nbformat_minor": 2
}
