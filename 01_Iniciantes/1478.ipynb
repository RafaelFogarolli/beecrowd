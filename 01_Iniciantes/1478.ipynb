{
 "cells": [
  {
   "cell_type": "markdown",
   "metadata": {},
   "source": [
    "### Problema 1478 - Matriz Quadrada II"
   ]
  },
  {
   "cell_type": "code",
   "execution_count": null,
   "metadata": {},
   "outputs": [],
   "source": [
    "def create_matriz(numero):\n",
    "    \n",
    "    matriz = [[i + 1 if ii == 0 else ii + 1 if i == 0 else 0 for i in range(numero)] for ii in range(numero)]\n",
    "    for i in range(numero): \n",
    "        for ii in range(numero): \n",
    "            if matriz[i][ii] == 0: matriz[i][ii] = matriz[i-1][ii-1]\n",
    "\n",
    "    return matriz\n",
    "\n",
    "\n",
    "while True:\n",
    "\n",
    "        numero = int(input())\n",
    "        if numero == 0: break        \n",
    "        matriz = create_matriz(numero)\n",
    "        [[print(f\"{i:3d} \", end = \"\") if idx+1 < numero else print(f\"{i:3d}\") for idx, i in enumerate(vec)] for vec in matriz]\n",
    "        print()"
   ]
  }
 ],
 "metadata": {
  "language_info": {
   "name": "python"
  }
 },
 "nbformat": 4,
 "nbformat_minor": 2
}
