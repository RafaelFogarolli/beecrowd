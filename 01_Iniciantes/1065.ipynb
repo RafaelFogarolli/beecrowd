{
 "cells": [
  {
   "cell_type": "markdown",
   "metadata": {},
   "source": [
    "### Problema 1065 - Pares entre Cinco Números"
   ]
  },
  {
   "cell_type": "code",
   "execution_count": null,
   "metadata": {},
   "outputs": [],
   "source": [
    "pares = 0\n",
    "for i in range(5):\n",
    "    \n",
    "    x = int(input())\n",
    "    if x % 2 == 0: pares += 1\n",
    "\n",
    "print(f\"{pares} valores pares\")"
   ]
  }
 ],
 "metadata": {
  "language_info": {
   "name": "python"
  }
 },
 "nbformat": 4,
 "nbformat_minor": 2
}
