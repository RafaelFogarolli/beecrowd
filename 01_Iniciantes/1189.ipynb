{
 "cells": [
  {
   "cell_type": "markdown",
   "metadata": {},
   "source": [
    "### Problema 1189 - Área Esquerda"
   ]
  },
  {
   "cell_type": "code",
   "execution_count": null,
   "metadata": {},
   "outputs": [],
   "source": [
    "caracter = input()\n",
    "\n",
    "matriz = [[float(input()) for _ in range(12)] for _ in range(12)]\n",
    "soma = sum([sum([matriz[ii][i] for i in range(12) if (ii > i) & (i+ii < 11) ]) for ii in range(12)])\n",
    "\n",
    "if caracter == 'S': print(f\"{soma:.1f}\")\n",
    "else: print(f\"{soma/30:.1f}\")"
   ]
  }
 ],
 "metadata": {
  "language_info": {
   "name": "python"
  }
 },
 "nbformat": 4,
 "nbformat_minor": 2
}
