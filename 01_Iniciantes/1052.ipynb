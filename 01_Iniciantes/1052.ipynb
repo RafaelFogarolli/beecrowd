{
 "cells": [
  {
   "cell_type": "markdown",
   "id": "b7fd71fc",
   "metadata": {},
   "source": [
    "### Problema 1052 - Mês"
   ]
  },
  {
   "cell_type": "code",
   "execution_count": null,
   "id": "845ed37b",
   "metadata": {},
   "outputs": [],
   "source": [
    "mes = { 1 : \"January\", 2 : \"February\", 3 : \"March\", 4 : \"April\", 5 : \"May\", 6 : \"June\", \n",
    "        7 : \"July\", 8 : \"August\", 9 : \"September\", 10 : \"October\", 11 : \"November\", 12 : \"December\", }\n",
    "\n",
    "numero = int(input())\n",
    "print(f\"{mes[numero]}\")"
   ]
  }
 ],
 "metadata": {
  "language_info": {
   "name": "python"
  }
 },
 "nbformat": 4,
 "nbformat_minor": 5
}
