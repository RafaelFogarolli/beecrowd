{
 "cells": [
  {
   "cell_type": "markdown",
   "id": "7d1a61a3",
   "metadata": {},
   "source": [
    "### Problema 1011 - Esfera"
   ]
  },
  {
   "cell_type": "code",
   "execution_count": null,
   "id": "d6f11832",
   "metadata": {},
   "outputs": [],
   "source": [
    "raio = int(input())\n",
    "volume = (4/3) * 3.14159 * raio**3\n",
    "\n",
    "print(f\"VOLUME = {volume:.3f}\")"
   ]
  }
 ],
 "metadata": {
  "language_info": {
   "name": "python"
  }
 },
 "nbformat": 4,
 "nbformat_minor": 5
}
