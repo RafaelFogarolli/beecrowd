{
 "cells": [
  {
   "cell_type": "markdown",
   "metadata": {},
   "source": [
    "### Problema 1064 - Positivos e Média"
   ]
  },
  {
   "cell_type": "code",
   "execution_count": null,
   "metadata": {},
   "outputs": [],
   "source": [
    "positivos, numeros_positivos = 0, 0\n",
    "for i in range(6):\n",
    "    \n",
    "    x = float(input())\n",
    "    if x > 0: \n",
    "        positivos += 1\n",
    "        numeros_positivos += x\n",
    "\n",
    "media = numeros_positivos/positivos\n",
    "\n",
    "print(f\"{positivos} valores positivos\")\n",
    "print(f\"{media:.1f}\")"
   ]
  }
 ],
 "metadata": {
  "language_info": {
   "name": "python"
  }
 },
 "nbformat": 4,
 "nbformat_minor": 2
}
