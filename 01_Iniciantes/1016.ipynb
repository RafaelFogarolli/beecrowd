{
 "cells": [
  {
   "cell_type": "markdown",
   "id": "cfa6058a",
   "metadata": {},
   "source": [
    "### Problema 1016 - Distância"
   ]
  },
  {
   "cell_type": "code",
   "execution_count": null,
   "id": "457d2452",
   "metadata": {},
   "outputs": [],
   "source": [
    "distancia = int(input())\n",
    "tempo = distancia * 2\n",
    "\n",
    "print(f\"{tempo} minutos\")"
   ]
  }
 ],
 "metadata": {
  "language_info": {
   "name": "python"
  }
 },
 "nbformat": 4,
 "nbformat_minor": 5
}
