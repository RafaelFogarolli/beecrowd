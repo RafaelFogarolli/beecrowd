{
 "cells": [
  {
   "cell_type": "markdown",
   "metadata": {},
   "source": [
    "### Problema 1061 - Tempo de um Evento"
   ]
  },
  {
   "cell_type": "code",
   "execution_count": null,
   "metadata": {},
   "outputs": [],
   "source": [
    "def transforma_segundos(delta, segundos):\n",
    "    \n",
    "    tempo = 0\n",
    "    for idx, i in enumerate(segundos.keys()): tempo += delta[idx] * i\n",
    "    \n",
    "    return tempo\n",
    "\n",
    "def leitura(segundos):\n",
    "\n",
    "    dia = list(map(str, input().split()))\n",
    "    hora = list(map(int, input().split(':')))    \n",
    "    tempo = transforma_segundos([int(dia[1])] + hora, segundos)\n",
    "\n",
    "    return tempo\n",
    "\n",
    "\n",
    "segundos = {86400 : \"dia(s)\", 3600 : \"hora(s)\", 60 : \"minuto(s)\", 1 : \"segundo(s)\"}\n",
    "duracao = 0\n",
    "\n",
    "for i in range(2):\n",
    "    duracao = leitura(segundos) - duracao\n",
    "\n",
    "for i in segundos.keys():\n",
    "    print(f\"{duracao//i} {segundos[i]}\")\n",
    "    duracao = duracao%i"
   ]
  }
 ],
 "metadata": {
  "language_info": {
   "name": "python"
  }
 },
 "nbformat": 4,
 "nbformat_minor": 2
}
