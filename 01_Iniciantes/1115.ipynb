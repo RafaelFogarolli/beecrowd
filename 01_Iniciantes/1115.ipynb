{
 "cells": [
  {
   "cell_type": "markdown",
   "metadata": {},
   "source": [
    "### Problema 1115 - Quadrante"
   ]
  },
  {
   "cell_type": "code",
   "execution_count": null,
   "metadata": {},
   "outputs": [],
   "source": [
    "while True:\n",
    "\n",
    "    x, y = map(int, input().split())\n",
    "    if (x == 0) | (y == 0): break\n",
    "\n",
    "    if (x > 0) & (y > 0): print(\"primeiro\")\n",
    "    elif (x < 0) & (y > 0): print(\"segundo\")\n",
    "    elif (x < 0) & (y < 0): print(\"terceiro\")\n",
    "    else: print(\"quarto\")\n"
   ]
  }
 ],
 "metadata": {
  "language_info": {
   "name": "python"
  }
 },
 "nbformat": 4,
 "nbformat_minor": 2
}
