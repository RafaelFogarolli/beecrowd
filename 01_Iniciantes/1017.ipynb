{
 "cells": [
  {
   "cell_type": "markdown",
   "id": "86fa355b",
   "metadata": {},
   "source": [
    "### Problema 1017 - Gasto de Combustível"
   ]
  },
  {
   "cell_type": "code",
   "execution_count": null,
   "id": "dfcb8cff",
   "metadata": {},
   "outputs": [],
   "source": [
    "tempo_viagem = int(input())\n",
    "velocidade_media = int(input())\n",
    "\n",
    "combustivel_gasto = (velocidade_media * tempo_viagem) / 12\n",
    "\n",
    "print(f\"{combustivel_gasto:.3f}\")"
   ]
  }
 ],
 "metadata": {
  "language_info": {
   "name": "python"
  }
 },
 "nbformat": 4,
 "nbformat_minor": 5
}
