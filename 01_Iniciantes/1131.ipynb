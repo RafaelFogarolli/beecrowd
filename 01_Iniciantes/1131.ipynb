{
 "cells": [
  {
   "cell_type": "markdown",
   "metadata": {},
   "source": [
    "### Problema 1131 - Grenais"
   ]
  },
  {
   "cell_type": "code",
   "execution_count": null,
   "metadata": {},
   "outputs": [],
   "source": [
    "jogos = {\"Inter\" : 0, \"Gremio\" : 0, \"Empates\" : 0}\n",
    "\n",
    "while True:\n",
    "    inter, gremio = map(int, input().split())\n",
    "\n",
    "    if inter > gremio: jogos[\"Inter\"] += 1\n",
    "    elif gremio > inter: jogos[\"Gremio\"] += 1\n",
    "    else: jogos[\"Empates\"] += 1\n",
    "\n",
    "    print(f\"Novo grenal (1-sim 2-nao)\")\n",
    "    if int(input()) == 2: break\n",
    "\n",
    "print(f\"{sum(jogos.values())} grenais\")\n",
    "[print(f\"{i}:{jogos[i]}\") for i in jogos.keys()]\n",
    "\n",
    "if max(jogos) == \"Empates\": print(f\"Nao houve vencedor\")\n",
    "else: print(f\"{max(jogos)} venceu mais\")\n",
    "    "
   ]
  }
 ],
 "metadata": {
  "language_info": {
   "name": "python"
  }
 },
 "nbformat": 4,
 "nbformat_minor": 2
}
