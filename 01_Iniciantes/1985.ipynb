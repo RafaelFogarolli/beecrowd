{
 "cells": [
  {
   "cell_type": "markdown",
   "metadata": {},
   "source": [
    "### Problema 1985 - MacPRONALTS"
   ]
  },
  {
   "cell_type": "code",
   "execution_count": null,
   "metadata": {},
   "outputs": [],
   "source": [
    "precos = {  1001 : 1.5,\n",
    "            1002 : 2.5,\n",
    "            1003 : 3.5,\n",
    "            1004 : 4.5,\n",
    "            1005 : 5.5 }\n",
    "\n",
    "total_produtos = int(input())\n",
    "compras = [list(map(int, input().split())) for i in range(total_produtos)]\n",
    "compras = sum([precos[i[0]] * i[1] for i in compras])\n",
    "print(f\"{compras:.2f}\")"
   ]
  }
 ],
 "metadata": {
  "language_info": {
   "name": "python"
  }
 },
 "nbformat": 4,
 "nbformat_minor": 2
}
