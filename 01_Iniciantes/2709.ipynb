{
 "cells": [
  {
   "cell_type": "markdown",
   "metadata": {},
   "source": [
    "### Problema 2709 - As Moedas de Robbie"
   ]
  },
  {
   "cell_type": "code",
   "execution_count": null,
   "metadata": {},
   "outputs": [],
   "source": [
    "def primo(numero):\n",
    "    if numero < 2: return False\n",
    "    raiz = int(numero**(0.5)) + 1\n",
    "    for i in range(2, raiz): \n",
    "        if numero%i == 0: return False\n",
    "    return True\n",
    "\n",
    "while True:\n",
    "    try:\n",
    "        moedas = int(input())\n",
    "        cofre = []\n",
    "        for _ in range(moedas): cofre.append(int(input()))\n",
    "\n",
    "        passo = int(input())\n",
    "        soma = 0\n",
    "        for i in range(moedas-1, -1, -passo): soma += cofre[i]\n",
    "\n",
    "        if primo(soma): print(f\"You’re a coastal aircraft, Robbie, a large silver aircraft.\")\n",
    "        else: print(f\"Bad boy! I’ll hit you.\")\n",
    "    except: break\n"
   ]
  }
 ],
 "metadata": {
  "language_info": {
   "name": "python"
  }
 },
 "nbformat": 4,
 "nbformat_minor": 2
}
