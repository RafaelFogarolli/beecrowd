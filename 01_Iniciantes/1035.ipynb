{
 "cells": [
  {
   "cell_type": "markdown",
   "id": "1d05c962",
   "metadata": {},
   "source": [
    "### Problema 1035 - Teste de Seleção 1"
   ]
  },
  {
   "cell_type": "code",
   "execution_count": null,
   "id": "3b8a7abf",
   "metadata": {},
   "outputs": [],
   "source": [
    "a, b, c, d = map(int, input().split())\n",
    "\n",
    "if (b > c) & (d > a) & ((c+d) > (a+b)) & (c > 0) & (d > 0) & ((a%2 == 0)) : \n",
    "    print('Valores aceitos')\n",
    "else:\n",
    "    print('Valores nao aceitos')"
   ]
  }
 ],
 "metadata": {
  "kernelspec": {
   "display_name": ".beecrowd",
   "language": "python",
   "name": "python3"
  },
  "language_info": {
   "codemirror_mode": {
    "name": "ipython",
    "version": 3
   },
   "file_extension": ".py",
   "mimetype": "text/x-python",
   "name": "python",
   "nbconvert_exporter": "python",
   "pygments_lexer": "ipython3",
   "version": "3.12.2"
  }
 },
 "nbformat": 4,
 "nbformat_minor": 5
}
