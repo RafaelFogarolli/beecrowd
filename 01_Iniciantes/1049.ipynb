{
 "cells": [
  {
   "cell_type": "markdown",
   "id": "44cc4509",
   "metadata": {},
   "source": [
    "### Problema 1049 - Animal"
   ]
  },
  {
   "cell_type": "code",
   "execution_count": null,
   "id": "8fdd03a3",
   "metadata": {},
   "outputs": [],
   "source": [
    "palavra01 = input()\n",
    "palavra02 = input()\n",
    "palavra03 = input()\n",
    "\n",
    "if palavra01 == \"vertebrado\":\n",
    "    if palavra02 == \"ave\":\n",
    "        if palavra03 == \"carnivoro\": print(\"aguia\")\n",
    "        else: print(\"pomba\")\n",
    "    else:\n",
    "        if palavra03 == \"onivoro\": print(\"homem\")\n",
    "        else: print(\"vaca\")\n",
    "else:\n",
    "    if palavra02 == \"inseto\":\n",
    "        if palavra03 == \"hematofago\": print(\"pulga\")\n",
    "        else: print(\"lagarta\")\n",
    "    else:\n",
    "        if palavra03 == \"hematofago\": print(\"sanguessuga\")\n",
    "        else: print(\"minhoca\")"
   ]
  },
  {
   "cell_type": "code",
   "execution_count": null,
   "id": "56caffe2",
   "metadata": {},
   "outputs": [],
   "source": []
  }
 ],
 "metadata": {
  "kernelspec": {
   "display_name": ".beecrowd",
   "language": "python",
   "name": "python3"
  },
  "language_info": {
   "codemirror_mode": {
    "name": "ipython",
    "version": 3
   },
   "file_extension": ".py",
   "mimetype": "text/x-python",
   "name": "python",
   "nbconvert_exporter": "python",
   "pygments_lexer": "ipython3",
   "version": "3.12.2"
  }
 },
 "nbformat": 4,
 "nbformat_minor": 5
}
