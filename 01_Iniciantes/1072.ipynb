{
 "cells": [
  {
   "cell_type": "markdown",
   "metadata": {},
   "source": [
    "### Problema 1072 - Intervalo 2"
   ]
  },
  {
   "cell_type": "code",
   "execution_count": null,
   "metadata": {},
   "outputs": [],
   "source": [
    "total_valores = int(input())\n",
    "valores = [int(input()) for i in range(total_valores)]\n",
    "dentro = sum([1 if ((i <= 20) & (i >= 10)) else 0 for i in valores])\n",
    "\n",
    "print(f\"{dentro} in\")\n",
    "print(f\"{total_valores-dentro} out\")"
   ]
  }
 ],
 "metadata": {
  "language_info": {
   "name": "python"
  }
 },
 "nbformat": 4,
 "nbformat_minor": 2
}
