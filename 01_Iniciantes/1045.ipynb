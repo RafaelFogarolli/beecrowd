{
 "cells": [
  {
   "cell_type": "markdown",
   "id": "765cc00e",
   "metadata": {},
   "source": [
    "### Problema 1045 - Tipos de Triângulos"
   ]
  },
  {
   "cell_type": "code",
   "execution_count": null,
   "id": "88bdfecf",
   "metadata": {},
   "outputs": [],
   "source": [
    "valores = list(map(float, input().split()))\n",
    "a, b, c = map(float, sorted(valores, reverse = True))\n",
    "\n",
    "if (a >= (b + c)):\n",
    "    print(f\"NAO FORMA TRIANGULO\")\n",
    "else:\n",
    "    if (a**2 == (b**2 + c **2)):\n",
    "        print(f\"TRIANGULO RETANGULO\")\n",
    "    elif (a**2 > (b**2 + c **2)):\n",
    "        print(f\"TRIANGULO OBTUSANGULO\")\n",
    "    elif (a**2 < (b**2 + c **2)):\n",
    "        print(f\"TRIANGULO ACUTANGULO\")\n",
    "    if ((a == b) & (a == c) & (c == b)):\n",
    "        print(f\"TRIANGULO EQUILATERO\")\n",
    "    elif ((a == b) | (a == c) | (c == b)):\n",
    "        print(f\"TRIANGULO ISOSCELES\")"
   ]
  }
 ],
 "metadata": {
  "kernelspec": {
   "display_name": ".beecrowd",
   "language": "python",
   "name": "python3"
  },
  "language_info": {
   "codemirror_mode": {
    "name": "ipython",
    "version": 3
   },
   "file_extension": ".py",
   "mimetype": "text/x-python",
   "name": "python",
   "nbconvert_exporter": "python",
   "pygments_lexer": "ipython3",
   "version": "3.12.2"
  }
 },
 "nbformat": 4,
 "nbformat_minor": 5
}
