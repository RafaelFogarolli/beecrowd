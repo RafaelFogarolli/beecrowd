{
 "cells": [
  {
   "cell_type": "markdown",
   "id": "dd582761",
   "metadata": {},
   "source": [
    "### Problema 1007 - Diferença"
   ]
  },
  {
   "cell_type": "code",
   "execution_count": null,
   "id": "29d29dd0",
   "metadata": {},
   "outputs": [],
   "source": [
    "primeiro_valor = int(input())\n",
    "segundo_valor = int(input())\n",
    "terceiro_valor = int(input())\n",
    "quato_valor = int(input())\n",
    "\n",
    "diferenca = primeiro_valor * segundo_valor - terceiro_valor * quato_valor\n",
    "\n",
    "print(f\"DIFERENCA = {diferenca}\")"
   ]
  }
 ],
 "metadata": {
  "language_info": {
   "name": "python"
  }
 },
 "nbformat": 4,
 "nbformat_minor": 5
}
