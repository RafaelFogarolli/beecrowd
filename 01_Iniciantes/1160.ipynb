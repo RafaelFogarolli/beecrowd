{
 "cells": [
  {
   "cell_type": "markdown",
   "metadata": {},
   "source": [
    "### Problema 1160 - Crescimento Populacional"
   ]
  },
  {
   "cell_type": "code",
   "execution_count": null,
   "metadata": {},
   "outputs": [],
   "source": [
    "def crescimento_populacional(pop, crsc):\n",
    "    return int(pop/100 * crsc)\n",
    "\n",
    "testes = int(input())\n",
    "for _ in range(testes):\n",
    "\n",
    "    \n",
    "    popA, popB, crscA, crscB = map(float, input().split())\n",
    "\n",
    "    for i in range(1, 102):\n",
    "        popA += crescimento_populacional(popA, crscA)\n",
    "        popB += crescimento_populacional(popB, crscB)\n",
    "        if (popA) > (popB): break\n",
    "\n",
    "    if i > 100: print(f\"Mais de 1 seculo.\")\n",
    "    else: print(f\"{i} anos.\")"
   ]
  }
 ],
 "metadata": {
  "language_info": {
   "name": "python"
  }
 },
 "nbformat": 4,
 "nbformat_minor": 2
}
