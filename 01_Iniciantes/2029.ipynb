{
 "cells": [
  {
   "cell_type": "markdown",
   "metadata": {},
   "source": [
    "### Problema 2029 - Reservatório de Mel"
   ]
  },
  {
   "cell_type": "code",
   "execution_count": null,
   "metadata": {},
   "outputs": [],
   "source": [
    "while True:\n",
    "    \n",
    "    try:\n",
    "        volume = float(input())\n",
    "        diametro  = float(input())\n",
    "\n",
    "        area = (3.14 * (diametro/2)**2)\n",
    "        altura = (volume / area)\n",
    "\n",
    "        print(f\"ALTURA = {altura:.2f}\")\n",
    "        print(f\"AREA = {area:.2f}\")\n",
    "    except: break"
   ]
  }
 ],
 "metadata": {
  "language_info": {
   "name": "python"
  }
 },
 "nbformat": 4,
 "nbformat_minor": 2
}
