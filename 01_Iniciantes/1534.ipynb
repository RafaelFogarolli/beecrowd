{
 "cells": [
  {
   "cell_type": "markdown",
   "metadata": {},
   "source": [
    "### Problema 1534 - Matriz 123"
   ]
  },
  {
   "cell_type": "code",
   "execution_count": null,
   "metadata": {},
   "outputs": [],
   "source": [
    "while True:\n",
    "    try: \n",
    "        numero = int(input())\n",
    "        matriz = [[2 if i+ii == (numero -1) else 1 if i == ii else 3 for i in range(numero)] for ii in range(numero)]\n",
    "        [[print(f\"{matriz[i][ii]}\", end=\"\") if i != numero-1 else print(f\"{matriz[i][ii]}\") for i in range(numero)] for ii in range(numero)]\n",
    "    except:\n",
    "        break"
   ]
  }
 ],
 "metadata": {
  "language_info": {
   "name": "python"
  }
 },
 "nbformat": 4,
 "nbformat_minor": 2
}
