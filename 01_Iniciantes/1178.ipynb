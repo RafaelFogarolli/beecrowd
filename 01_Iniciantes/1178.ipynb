{
 "cells": [
  {
   "cell_type": "markdown",
   "metadata": {},
   "source": [
    "### Problema 1178 - Preenchimento de Vetor III"
   ]
  },
  {
   "cell_type": "code",
   "execution_count": null,
   "metadata": {},
   "outputs": [],
   "source": [
    "numero = float(input())\n",
    "[print(f\"N[{i}] = {numero/2**i:.4f}\") for i in range(100)]"
   ]
  }
 ],
 "metadata": {
  "language_info": {
   "name": "python"
  }
 },
 "nbformat": 4,
 "nbformat_minor": 2
}
