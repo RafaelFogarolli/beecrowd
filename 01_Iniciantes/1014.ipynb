{
 "cells": [
  {
   "cell_type": "markdown",
   "id": "d6cf86cd",
   "metadata": {},
   "source": [
    "### Problema 1014 - Consumo"
   ]
  },
  {
   "cell_type": "code",
   "execution_count": null,
   "id": "a716dbd3",
   "metadata": {},
   "outputs": [],
   "source": [
    "distancia_percorrida = int(input())\n",
    "combustivel_gasto = float(input())\n",
    "\n",
    "consumo = distancia_percorrida/combustivel_gasto\n",
    "\n",
    "print(f\"{consumo:.3f} km/l\")"
   ]
  }
 ],
 "metadata": {
  "language_info": {
   "name": "python"
  }
 },
 "nbformat": 4,
 "nbformat_minor": 5
}
