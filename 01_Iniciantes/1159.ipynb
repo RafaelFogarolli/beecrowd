{
 "cells": [
  {
   "cell_type": "markdown",
   "metadata": {},
   "source": [
    "### Problema 1159 - Soma de Pares Consecutivos"
   ]
  },
  {
   "cell_type": "code",
   "execution_count": null,
   "metadata": {},
   "outputs": [],
   "source": [
    "while True:\n",
    "\n",
    "    numero = int(input())\n",
    "    if numero == 0: break\n",
    "    if numero%2 == 1: numero += 1\n",
    "    soma = sum([numero + 2 * i for i in range(5)])\n",
    "    print(f\"{soma}\")"
   ]
  }
 ],
 "metadata": {
  "language_info": {
   "name": "python"
  }
 },
 "nbformat": 4,
 "nbformat_minor": 2
}
