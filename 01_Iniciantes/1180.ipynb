{
 "cells": [
  {
   "cell_type": "markdown",
   "metadata": {},
   "source": [
    "### Problema 1180 - Menor e Posição"
   ]
  },
  {
   "cell_type": "code",
   "execution_count": null,
   "metadata": {},
   "outputs": [],
   "source": [
    "valor = int(input())\n",
    "vetor = list(map(int, input().split()))\n",
    "\n",
    "menor = min(vetor)\n",
    "print(f\"Menor valor: {menor}\")\n",
    "print(f\"Posicao: {vetor.index(menor)}\")"
   ]
  }
 ],
 "metadata": {
  "language_info": {
   "name": "python"
  }
 },
 "nbformat": 4,
 "nbformat_minor": 2
}
