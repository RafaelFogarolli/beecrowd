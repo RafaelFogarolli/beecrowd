{
 "cells": [
  {
   "cell_type": "markdown",
   "id": "2b7bf261",
   "metadata": {},
   "source": [
    "### Problema 1006 - Média 2"
   ]
  },
  {
   "cell_type": "code",
   "execution_count": null,
   "id": "fca0bf38",
   "metadata": {},
   "outputs": [],
   "source": [
    "primeiro_valor = float(input()) * 2\n",
    "segundo_valor = float(input()) * 3\n",
    "terceiro_valor = float(input()) * 5\n",
    "\n",
    "media = (primeiro_valor + segundo_valor + terceiro_valor) / 10\n",
    "\n",
    "print(f\"MEDIA = {media:.1f}\")"
   ]
  }
 ],
 "metadata": {
  "language_info": {
   "name": "python"
  }
 },
 "nbformat": 4,
 "nbformat_minor": 5
}
