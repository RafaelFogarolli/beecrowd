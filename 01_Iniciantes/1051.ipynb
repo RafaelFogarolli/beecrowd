{
 "cells": [
  {
   "cell_type": "markdown",
   "id": "7d5b0ba0",
   "metadata": {},
   "source": [
    "### Problema 1051 - Imposto de Renda"
   ]
  },
  {
   "cell_type": "code",
   "execution_count": null,
   "id": "1691c659",
   "metadata": {},
   "outputs": [],
   "source": [
    "salario = float(input())\n",
    "if salario <= 2000:\n",
    "    print(f\"Isento\")\n",
    "else:\n",
    "    taxas = [0.28, 0.18, 0.08]\n",
    "    faixas = [4500, 3000, 2000]\n",
    "    imposto = 0\n",
    "\n",
    "    for i in range(3):\n",
    "        if salario > faixas[i]:\n",
    "            imposto += (salario-faixas[i])*taxas[i] \n",
    "            salario =  faixas[i]\n",
    "            \n",
    "    print(f\"R$ {imposto:.2f}\")"
   ]
  }
 ],
 "metadata": {
  "language_info": {
   "name": "python"
  }
 },
 "nbformat": 4,
 "nbformat_minor": 5
}
