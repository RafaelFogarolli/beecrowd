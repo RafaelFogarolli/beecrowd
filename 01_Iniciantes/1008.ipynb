{
 "cells": [
  {
   "cell_type": "markdown",
   "id": "1b4ef52a",
   "metadata": {},
   "source": [
    "### Problema 1008 - Salário"
   ]
  },
  {
   "cell_type": "code",
   "execution_count": null,
   "id": "2b8a584b",
   "metadata": {},
   "outputs": [],
   "source": [
    "codigo_funcionario = int(input())\n",
    "horas_trabalhadas = int(input())\n",
    "hora_salario = float(input())\n",
    "\n",
    "print(f\"NUMBER = {codigo_funcionario}\")\n",
    "print(f\"SALARY = U$ {horas_trabalhadas * hora_salario:.2f}\")"
   ]
  }
 ],
 "metadata": {
  "language_info": {
   "name": "python"
  }
 },
 "nbformat": 4,
 "nbformat_minor": 5
}
