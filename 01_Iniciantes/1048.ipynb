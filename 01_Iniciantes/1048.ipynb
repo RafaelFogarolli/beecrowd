{
 "cells": [
  {
   "cell_type": "markdown",
   "id": "c5e182eb",
   "metadata": {},
   "source": [
    "### Problema 1048 - Aumento de Salário"
   ]
  },
  {
   "cell_type": "code",
   "execution_count": null,
   "id": "154df074",
   "metadata": {},
   "outputs": [],
   "source": [
    "aumento = {2000.01 : 0.04, 1200.01 : 0.07, 800.01 : 0.1, 400.01 : 0.12, 0 : 0.15}\n",
    "salario = float(input())\n",
    "\n",
    "for i in aumento.keys():\n",
    "    if salario >= i:\n",
    "        bonus = salario * aumento[i]\n",
    "        print(f\"Novo salario: {(salario + bonus):.2f}\")\n",
    "        print(f\"Reajuste ganho: {bonus:.2f}\")\n",
    "        print(f\"Em percentual: {int(aumento[i]*100)} %\")\n",
    "        break"
   ]
  }
 ],
 "metadata": {
  "language_info": {
   "name": "python"
  }
 },
 "nbformat": 4,
 "nbformat_minor": 5
}
