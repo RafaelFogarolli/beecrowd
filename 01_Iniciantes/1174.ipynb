{
 "cells": [
  {
   "cell_type": "markdown",
   "metadata": {},
   "source": [
    "### Problema 1174 - Seleçao em Vetor I"
   ]
  },
  {
   "cell_type": "code",
   "execution_count": null,
   "metadata": {},
   "outputs": [],
   "source": [
    "vetor = [float(input()) for _ in range(100)]\n",
    "[print(f\"A[{i}] = {vetor[i]}\") for i in range(100) if vetor[i] <= 10]"
   ]
  }
 ],
 "metadata": {
  "language_info": {
   "name": "python"
  }
 },
 "nbformat": 4,
 "nbformat_minor": 2
}
