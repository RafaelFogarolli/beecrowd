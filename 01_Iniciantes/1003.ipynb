{
 "cells": [
  {
   "cell_type": "markdown",
   "id": "b7456af4",
   "metadata": {},
   "source": [
    "### Problema 1003 - Soma Simples"
   ]
  },
  {
   "cell_type": "code",
   "execution_count": null,
   "id": "0d1da04d",
   "metadata": {},
   "outputs": [],
   "source": [
    "primeiro_numero = int(input())\n",
    "segundo_numero = int(input())\n",
    "\n",
    "print(f\"SOMA = {primeiro_numero + segundo_numero}\")"
   ]
  }
 ],
 "metadata": {
  "language_info": {
   "name": "python"
  }
 },
 "nbformat": 4,
 "nbformat_minor": 5
}
