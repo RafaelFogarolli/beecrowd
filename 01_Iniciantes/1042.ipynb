{
 "cells": [
  {
   "cell_type": "markdown",
   "id": "7b6885d6",
   "metadata": {},
   "source": [
    "### Problema 1042 - Sort Simples"
   ]
  },
  {
   "cell_type": "code",
   "execution_count": null,
   "id": "490e4a68",
   "metadata": {},
   "outputs": [],
   "source": [
    "def exibir_numero(numeros):\n",
    "    for i in numeros:\n",
    "        print(i)\n",
    "\n",
    "n1, n2, n3 = map(int, input().split())\n",
    "ordenado = [n1, n2, n3]\n",
    "\n",
    "exibir_numero(sorted(ordenado))\n",
    "print()\n",
    "exibir_numero(ordenado)"
   ]
  }
 ],
 "metadata": {
  "kernelspec": {
   "display_name": ".beecrowd",
   "language": "python",
   "name": "python3"
  },
  "language_info": {
   "codemirror_mode": {
    "name": "ipython",
    "version": 3
   },
   "file_extension": ".py",
   "mimetype": "text/x-python",
   "name": "python",
   "nbconvert_exporter": "python",
   "pygments_lexer": "ipython3",
   "version": "3.12.2"
  }
 },
 "nbformat": 4,
 "nbformat_minor": 5
}
