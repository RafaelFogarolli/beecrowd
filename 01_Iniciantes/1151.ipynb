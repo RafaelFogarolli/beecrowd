{
 "cells": [
  {
   "cell_type": "markdown",
   "metadata": {},
   "source": [
    "### Problema 1151 - Fibonacci Fácil"
   ]
  },
  {
   "cell_type": "code",
   "execution_count": null,
   "metadata": {},
   "outputs": [],
   "source": [
    "def fibonnaci(serie):\n",
    "    \n",
    "    lista = [0, 1]\n",
    "    for i in range(2, serie):\n",
    "        lista.append(lista[-1] + lista[-2])\n",
    "\n",
    "    return lista[:serie]\n",
    "\n",
    "serie = fibonnaci(int(input()))\n",
    "[print(f\"{i}\", end = \" \") for i in serie[:-1]]\n",
    "print(f\"{serie[-1]}\")"
   ]
  }
 ],
 "metadata": {
  "kernelspec": {
   "display_name": ".beecrowd",
   "language": "python",
   "name": "python3"
  },
  "language_info": {
   "codemirror_mode": {
    "name": "ipython",
    "version": 3
   },
   "file_extension": ".py",
   "mimetype": "text/x-python",
   "name": "python",
   "nbconvert_exporter": "python",
   "pygments_lexer": "ipython3",
   "version": "3.12.2"
  }
 },
 "nbformat": 4,
 "nbformat_minor": 2
}
