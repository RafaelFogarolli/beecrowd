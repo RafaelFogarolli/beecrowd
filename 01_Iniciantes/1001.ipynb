{
 "cells": [
  {
   "cell_type": "markdown",
   "id": "5d9c909b",
   "metadata": {},
   "source": [
    "## Problema 1001 - Extremamentet Básico"
   ]
  },
  {
   "cell_type": "code",
   "execution_count": null,
   "id": "14d88b6c",
   "metadata": {},
   "outputs": [],
   "source": [
    "primeiro_numero = int(input())\n",
    "segundo_numero = int(input())\n",
    "\n",
    "soma = primeiro_numero + segundo_numero\n",
    "print(f\"X = {soma}\")"
   ]
  }
 ],
 "metadata": {
  "language_info": {
   "name": "python"
  }
 },
 "nbformat": 4,
 "nbformat_minor": 5
}
