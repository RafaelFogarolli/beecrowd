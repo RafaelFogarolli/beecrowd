{
 "cells": [
  {
   "cell_type": "markdown",
   "id": "955190e7",
   "metadata": {},
   "source": [
    "### Problema 1021 - Notas e Moedas"
   ]
  },
  {
   "cell_type": "code",
   "execution_count": null,
   "id": "b3432b32",
   "metadata": {},
   "outputs": [],
   "source": [
    "valor = float(input())\n",
    "notas = {10000 : 0, 5000 : 0, 2000 : 0, 1000 : 0, 500 : 0, 200 : 0 } \n",
    "moedas = {100 : 0, 50 : 0, 25 : 0, 10 : 0, 5 : 0, 1 :0}\n",
    "\n",
    "valor = int(valor * 100)\n",
    "\n",
    "print(f\"NOTAS:\")\n",
    "for i in notas.keys():\n",
    "    notas[i] = int(valor/i)\n",
    "    valor -= (notas[i] * i)\n",
    "    print(f\"{notas[i]} nota(s) de R$ {i/100:.2f}\")\n",
    "print(f\"MOEDAS:\")\n",
    "for i in moedas.keys():\n",
    "    moedas[i] = int(valor/i)\n",
    "    valor -= (moedas[i] * i)\n",
    "    print(f\"{moedas[i]} moeda(s) de R$ {i/100:.2f}\")"
   ]
  }
 ],
 "metadata": {
  "kernelspec": {
   "display_name": ".beecrowd",
   "language": "python",
   "name": "python3"
  },
  "language_info": {
   "codemirror_mode": {
    "name": "ipython",
    "version": 3
   },
   "file_extension": ".py",
   "mimetype": "text/x-python",
   "name": "python",
   "nbconvert_exporter": "python",
   "pygments_lexer": "ipython3",
   "version": "3.12.2"
  }
 },
 "nbformat": 4,
 "nbformat_minor": 5
}
