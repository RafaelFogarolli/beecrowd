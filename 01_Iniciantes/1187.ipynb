{
 "cells": [
  {
   "cell_type": "markdown",
   "metadata": {},
   "source": [
    "### Problema 1187 - Área Superior"
   ]
  },
  {
   "cell_type": "code",
   "execution_count": null,
   "metadata": {},
   "outputs": [],
   "source": [
    "caracter = input()\n",
    "\n",
    "matriz = [[float(input()) for _ in range(12)] for _ in range(12)]\n",
    "soma = sum([sum([matriz[ii][i] for i in range(11-ii) if (ii < i) ]) for ii in range(12)])\n",
    "\n",
    "if caracter == 'S': print(f\"{soma:.1f}\")\n",
    "else: print(f\"{soma/30:.1f}\")"
   ]
  }
 ],
 "metadata": {
  "language_info": {
   "name": "python"
  }
 },
 "nbformat": 4,
 "nbformat_minor": 2
}
