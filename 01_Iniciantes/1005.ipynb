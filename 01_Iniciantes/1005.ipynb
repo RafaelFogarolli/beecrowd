{
 "cells": [
  {
   "cell_type": "markdown",
   "id": "7d8021a3",
   "metadata": {},
   "source": [
    "### Problema 1005 - Média 1\n"
   ]
  },
  {
   "cell_type": "code",
   "execution_count": null,
   "id": "a42c2323",
   "metadata": {},
   "outputs": [],
   "source": [
    "primeiro_valor = float(input()) \n",
    "primeiro_valor = (primeiro_valor * 3.5) / 11\n",
    "\n",
    "segundo_valor = float(input()) \n",
    "segundo_valor = (segundo_valor * 7.5) / 11\n",
    "\n",
    "print(f\"MEDIA = {(primeiro_valor + segundo_valor):.5f}\")"
   ]
  }
 ],
 "metadata": {
  "language_info": {
   "name": "python"
  }
 },
 "nbformat": 4,
 "nbformat_minor": 5
}
