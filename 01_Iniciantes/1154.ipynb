{
 "cells": [
  {
   "cell_type": "markdown",
   "metadata": {},
   "source": [
    "### Problema 1154 - Idades"
   ]
  },
  {
   "cell_type": "code",
   "execution_count": null,
   "metadata": {},
   "outputs": [],
   "source": [
    "idades = []\n",
    "while True:\n",
    "    idade = int(input())\n",
    "    if idade < 0 : break\n",
    "    idades.append(idade)\n",
    "\n",
    "print(f\"{sum(idades)/len(idades):.2f}\")"
   ]
  }
 ],
 "metadata": {
  "language_info": {
   "name": "python"
  }
 },
 "nbformat": 4,
 "nbformat_minor": 2
}
