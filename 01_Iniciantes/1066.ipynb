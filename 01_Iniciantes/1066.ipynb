{
 "cells": [
  {
   "cell_type": "markdown",
   "metadata": {},
   "source": [
    "### Problema 1066 - Pares, Ímpares, Positivos e Negativos"
   ]
  },
  {
   "cell_type": "code",
   "execution_count": null,
   "metadata": {},
   "outputs": [],
   "source": [
    "positivos, pares, negativo = 0, 0, 0\n",
    "for i in range(5):\n",
    "    \n",
    "    x = int(input())\n",
    "    if x % 2 == 0: pares += 1\n",
    "    if x > 0: positivos += 1\n",
    "    elif x < 0: negativo += 1\n",
    "\n",
    "print(f\"{pares} valor(es) par(es)\")\n",
    "print(f\"{5 - pares} valor(es) impar(es)\")\n",
    "print(f\"{positivos} valor(es) positivo(s)\")\n",
    "print(f\"{negativo} valor(es) negativo(s)\")"
   ]
  }
 ],
 "metadata": {
  "language_info": {
   "name": "python"
  }
 },
 "nbformat": 4,
 "nbformat_minor": 2
}
