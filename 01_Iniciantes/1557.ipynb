{
 "cells": [
  {
   "cell_type": "markdown",
   "metadata": {},
   "source": [
    "### Problema 1557 - Matriz Quadrada III"
   ]
  },
  {
   "cell_type": "code",
   "execution_count": null,
   "metadata": {},
   "outputs": [],
   "source": [
    "while True:\n",
    "    numero = int(input())\n",
    "    if numero == 0: break\n",
    "    matriz = [[2**(i+ii) for i in range(numero)] for ii in range(numero)]\n",
    "    form = len(str(matriz[numero-1][numero-1]))\n",
    "    [[print(f\"{i:{form}d} \", end = \"\") if idx+1 < numero else print(f\"{i:{form}d}\") for idx, i in enumerate(vec)] for vec in matriz]\n",
    "    print()"
   ]
  }
 ],
 "metadata": {
  "language_info": {
   "name": "python"
  }
 },
 "nbformat": 4,
 "nbformat_minor": 2
}
