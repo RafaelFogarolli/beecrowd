{
 "cells": [
  {
   "cell_type": "markdown",
   "id": "4da59813",
   "metadata": {},
   "source": [
    "### Problema 1019 - Conversão de Tempo"
   ]
  },
  {
   "cell_type": "code",
   "execution_count": null,
   "id": "323824e4",
   "metadata": {},
   "outputs": [],
   "source": [
    "total_segundos = int(input())\n",
    "\n",
    "relogio = {3600 : 0, 60 : 0, 1: 0}\n",
    "for i in relogio.keys():\n",
    "    relogio[i] = total_segundos // i\n",
    "    total_segundos -= relogio[i] * i\n",
    "\n",
    "print(f\"{relogio[3600]}:{relogio[60]}:{relogio[1]}\")"
   ]
  }
 ],
 "metadata": {
  "kernelspec": {
   "display_name": ".beecrowd",
   "language": "python",
   "name": "python3"
  },
  "language_info": {
   "codemirror_mode": {
    "name": "ipython",
    "version": 3
   },
   "file_extension": ".py",
   "mimetype": "text/x-python",
   "name": "python",
   "nbconvert_exporter": "python",
   "pygments_lexer": "ipython3",
   "version": "3.12.2"
  }
 },
 "nbformat": 4,
 "nbformat_minor": 5
}
