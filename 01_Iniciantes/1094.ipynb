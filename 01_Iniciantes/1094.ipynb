{
 "cells": [
  {
   "cell_type": "markdown",
   "metadata": {},
   "source": [
    "### Problema 1094 - Experiências"
   ]
  },
  {
   "cell_type": "code",
   "execution_count": null,
   "metadata": {},
   "outputs": [],
   "source": [
    "cobaias = {'C' : [0, \"coelhos\"], 'R' : [0, \"ratos\"], 'S' : [0, \"sapos\"], 'T' : [0, \"\"]}\n",
    "casos_testes = int(input())\n",
    "experimentos = [input() for i in range(casos_testes)]\n",
    "\n",
    "for i in experimentos:\n",
    "    valor = int(i.split()[0])\n",
    "    animal = i.split()[1]\n",
    "    cobaias[animal][0] += valor\n",
    "    cobaias['T'][0] += valor\n",
    "\n",
    "print(f\"Total: {cobaias['T'][0]} cobaias\")\n",
    "[print(f\"Total de {cobaias[i][1]}: {cobaias[i][0]}\") for i in cobaias if i != 'T']\n",
    "[print(f\"Percentual de {cobaias[i][1]}: {(cobaias[i][0]/cobaias['T'][0]*100):.2f} %\") for i in cobaias if i != 'T']"
   ]
  }
 ],
 "metadata": {
  "language_info": {
   "name": "python"
  }
 },
 "nbformat": 4,
 "nbformat_minor": 2
}
