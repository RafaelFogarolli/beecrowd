{
 "cells": [
  {
   "cell_type": "markdown",
   "id": "2391f32e",
   "metadata": {},
   "source": [
    "### Problema 1047 - Tempo de Jogo com Minutos"
   ]
  },
  {
   "cell_type": "code",
   "execution_count": null,
   "id": "830d85fe",
   "metadata": {},
   "outputs": [],
   "source": [
    "hora_inicio, minuto_inicio, hora_final, minuto_final = map(int, input().split())\n",
    "\n",
    "hora_inicio = hora_inicio * 60 + minuto_inicio\n",
    "hora_final = hora_final * 60 + minuto_final\n",
    "\n",
    "if hora_inicio == hora_final:\n",
    "    print(f\"O JOGO DUROU 24 HORA(S) E 0 MINUTO(S)\")\n",
    "elif hora_final < hora_inicio:\n",
    "    duracao = hora_final + 1440 - hora_inicio\n",
    "    print(f\"O JOGO DUROU {duracao//60} HORA(S) E {duracao%60} MINUTO(S)\")\n",
    "else:\n",
    "    duracao = hora_final - hora_inicio\n",
    "    print(f\"O JOGO DUROU {duracao//60} HORA(S) E {duracao%60} MINUTO(S)\")"
   ]
  }
 ],
 "metadata": {
  "language_info": {
   "name": "python"
  }
 },
 "nbformat": 4,
 "nbformat_minor": 5
}
