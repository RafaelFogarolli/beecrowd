{
 "cells": [
  {
   "cell_type": "markdown",
   "metadata": {},
   "source": [
    "### Problema 3055 - Nota Esquecida"
   ]
  },
  {
   "cell_type": "code",
   "execution_count": null,
   "metadata": {},
   "outputs": [],
   "source": [
    "nota_01 = int(input())\n",
    "media = int(input())\n",
    "\n",
    "nota_02 = (media*2) - nota_01\n",
    "\n",
    "print(f\"{nota_02}\")"
   ]
  }
 ],
 "metadata": {
  "language_info": {
   "name": "python"
  }
 },
 "nbformat": 4,
 "nbformat_minor": 2
}
