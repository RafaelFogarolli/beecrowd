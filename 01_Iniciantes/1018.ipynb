{
 "cells": [
  {
   "cell_type": "markdown",
   "id": "bea5c416",
   "metadata": {},
   "source": [
    "### Problema 1018 - Cédulas"
   ]
  },
  {
   "cell_type": "code",
   "execution_count": null,
   "id": "b4d5eb0e",
   "metadata": {},
   "outputs": [],
   "source": [
    "valor = int(input())\n",
    "notas = {100 : 0, 50 : 0, 20 : 0, 10 : 0, 5 : 0, 2 : 0, 1 : 0}\n",
    "print(f\"{valor}\")\n",
    "\n",
    "for i in notas.keys():\n",
    "    notas[i] = valor//i\n",
    "    valor -= (notas[i] * i)\n",
    "    print(f\"{notas[i]} nota(s) de R$ {i},00\")"
   ]
  }
 ],
 "metadata": {
  "kernelspec": {
   "display_name": ".beecrowd",
   "language": "python",
   "name": "python3"
  },
  "language_info": {
   "codemirror_mode": {
    "name": "ipython",
    "version": 3
   },
   "file_extension": ".py",
   "mimetype": "text/x-python",
   "name": "python",
   "nbconvert_exporter": "python",
   "pygments_lexer": "ipython3",
   "version": "3.12.2"
  }
 },
 "nbformat": 4,
 "nbformat_minor": 5
}
