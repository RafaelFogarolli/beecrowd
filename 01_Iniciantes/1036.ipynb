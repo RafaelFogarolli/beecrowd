{
 "cells": [
  {
   "cell_type": "markdown",
   "id": "e9e84ce8",
   "metadata": {},
   "source": [
    "### Problema 1036 - Fórmula de Bhaskara"
   ]
  },
  {
   "cell_type": "code",
   "execution_count": null,
   "id": "0bffe083",
   "metadata": {},
   "outputs": [],
   "source": [
    "def bhaskra(segundo_valor, delta, primeiro_valor, i):\n",
    "    x = (- segundo_valor + delta) / (2 * primeiro_valor)\n",
    "    print(f\"R{i} = {x:.5f}\")\n",
    "\n",
    "def error_message(): print(\"Impossivel calcular\")\n",
    "\n",
    "primeiro_valor, segundo_valor, terceiro_valor = map(float, input().split())\n",
    "\n",
    "if primeiro_valor != 0:\n",
    "    delta = (segundo_valor**2 - 4 * primeiro_valor * terceiro_valor)\n",
    "    if delta >= 0:\n",
    "        delta = delta**(1/2)\n",
    "        bhaskra(segundo_valor, delta, primeiro_valor, 1)\n",
    "        bhaskra(segundo_valor, -delta, primeiro_valor, 2)\n",
    "    else:\n",
    "        error_message()\n",
    "else:\n",
    "    error_message()"
   ]
  }
 ],
 "metadata": {
  "kernelspec": {
   "display_name": ".beecrowd",
   "language": "python",
   "name": "python3"
  },
  "language_info": {
   "codemirror_mode": {
    "name": "ipython",
    "version": 3
   },
   "file_extension": ".py",
   "mimetype": "text/x-python",
   "name": "python",
   "nbconvert_exporter": "python",
   "pygments_lexer": "ipython3",
   "version": "3.12.2"
  }
 },
 "nbformat": 4,
 "nbformat_minor": 5
}
