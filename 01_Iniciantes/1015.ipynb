{
 "cells": [
  {
   "cell_type": "markdown",
   "id": "810fbae5",
   "metadata": {},
   "source": [
    "### Problema 1015 - Distância Entre Dois Pontos"
   ]
  },
  {
   "cell_type": "code",
   "execution_count": null,
   "id": "3de16f2e",
   "metadata": {},
   "outputs": [],
   "source": [
    "x1, y1 = map(float, input().split())\n",
    "x2, y2 = map(float, input().split())\n",
    "\n",
    "distancia = ((x2 - x1)**2 + (y2 - y1)**2)**(1/2)\n",
    "\n",
    "print(f\"{distancia:.4f}\")"
   ]
  }
 ],
 "metadata": {
  "language_info": {
   "name": "python"
  }
 },
 "nbformat": 4,
 "nbformat_minor": 5
}
