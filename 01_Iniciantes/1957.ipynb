{
 "cells": [
  {
   "cell_type": "markdown",
   "metadata": {},
   "source": [
    "### Problema 1957 - Converter para Hexadecimal"
   ]
  },
  {
   "cell_type": "code",
   "execution_count": null,
   "metadata": {},
   "outputs": [],
   "source": [
    "dic = { 0 : '0', 1 : '1', 2 : '2', 3 : '3', 4 : '4', 5 : '5', 6 : '6', 7 : '7', 8 : '8', \n",
    "        9 : '9', 10 : 'A', 11 : 'B', 12 : 'C', 13 : 'D', 14 : 'E', 15 : 'F' }\n",
    "\n",
    "num = int(input())\n",
    "\n",
    "hexa = []\n",
    "while num > 15:\n",
    "    hexa.append(num%16)\n",
    "    num = num//16\n",
    "\n",
    "hexa.append(num)\n",
    "hexa = \"\".join([dic[i] for i in hexa[::-1]])\n",
    "print(f\"{hexa}\")"
   ]
  }
 ],
 "metadata": {
  "language_info": {
   "name": "python"
  }
 },
 "nbformat": 4,
 "nbformat_minor": 2
}
