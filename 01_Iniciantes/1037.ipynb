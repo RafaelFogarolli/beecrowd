{
 "cells": [
  {
   "cell_type": "markdown",
   "id": "d2c9de9d",
   "metadata": {},
   "source": [
    "### Problema 1037 - Intervalo"
   ]
  },
  {
   "cell_type": "code",
   "execution_count": null,
   "id": "42cfa68e",
   "metadata": {},
   "outputs": [],
   "source": [
    "\n",
    "intervalos = {25 : '[', 50 : '(', 75 : '(', 100 : '('}\n",
    "valor_lido = float(input())\n",
    "if (valor_lido > 100) | (valor_lido < 0):\n",
    "    print(\"Fora de intervalo\")\n",
    "else:\n",
    "    for i in intervalos.keys():\n",
    "        if valor_lido <= i:\n",
    "            print(f\"Intervalo {intervalos[i]}{i-25},{i}]\")\n",
    "            break\n",
    "\n"
   ]
  }
 ],
 "metadata": {
  "kernelspec": {
   "display_name": ".beecrowd",
   "language": "python",
   "name": "python3"
  },
  "language_info": {
   "codemirror_mode": {
    "name": "ipython",
    "version": 3
   },
   "file_extension": ".py",
   "mimetype": "text/x-python",
   "name": "python",
   "nbconvert_exporter": "python",
   "pygments_lexer": "ipython3",
   "version": "3.12.2"
  }
 },
 "nbformat": 4,
 "nbformat_minor": 5
}
