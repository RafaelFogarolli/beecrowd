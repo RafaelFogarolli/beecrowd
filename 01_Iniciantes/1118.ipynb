{
 "cells": [
  {
   "cell_type": "markdown",
   "metadata": {},
   "source": [
    "### Problema 1118 - Várias Notas com Validação"
   ]
  },
  {
   "cell_type": "code",
   "execution_count": null,
   "metadata": {},
   "outputs": [],
   "source": [
    "def validacao_nota():\n",
    "    \"\"\"\n",
    "    \"\"\"\n",
    "    \n",
    "    media = [0, 0]\n",
    "    while True:\n",
    "        nota = float(input())\n",
    "        if (0 <= nota <= 10): \n",
    "            media[0] += nota\n",
    "            media[1] += 1\n",
    "        else: print(f\"nota invalida\")\n",
    "        if media[1] == 2: break    \n",
    "        \n",
    "    print(f\"media = {(media[0]/2):.2f}\")\n",
    "\n",
    "\n",
    "\n",
    "validacao_nota()\n",
    "while True:\n",
    "    print(f\"novo calculo (1-sim 2-nao)\")\n",
    "    proxima_media = int(input()) \n",
    "    if proxima_media == 1: validacao_nota()\n",
    "    elif proxima_media == 2: break"
   ]
  }
 ],
 "metadata": {
  "kernelspec": {
   "display_name": ".beecrowd",
   "language": "python",
   "name": "python3"
  },
  "language_info": {
   "codemirror_mode": {
    "name": "ipython",
    "version": 3
   },
   "file_extension": ".py",
   "mimetype": "text/x-python",
   "name": "python",
   "nbconvert_exporter": "python",
   "pygments_lexer": "ipython3",
   "version": "3.12.2"
  }
 },
 "nbformat": 4,
 "nbformat_minor": 2
}
