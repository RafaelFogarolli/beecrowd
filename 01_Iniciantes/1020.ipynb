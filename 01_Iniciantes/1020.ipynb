{
 "cells": [
  {
   "cell_type": "markdown",
   "id": "dd6fab49",
   "metadata": {},
   "source": [
    "### Problema 1020 - Idade em Dias"
   ]
  },
  {
   "cell_type": "code",
   "execution_count": null,
   "id": "a96cc383",
   "metadata": {},
   "outputs": [],
   "source": [
    "dias = int(input())\n",
    "idade = {365 : ['ano(s)', 0], 30 : ['mes(es)', 0], 1 : ['dia(s)', 0]}\n",
    "\n",
    "for i in idade.keys():\n",
    "    idade[i][1] = dias // i\n",
    "    dias -= idade[i][1] * i\n",
    "    print(f\"{idade[i][1]} {idade[i][0]}\")"
   ]
  }
 ],
 "metadata": {
  "kernelspec": {
   "display_name": ".beecrowd",
   "language": "python",
   "name": "python3"
  },
  "language_info": {
   "codemirror_mode": {
    "name": "ipython",
    "version": 3
   },
   "file_extension": ".py",
   "mimetype": "text/x-python",
   "name": "python",
   "nbconvert_exporter": "python",
   "pygments_lexer": "ipython3",
   "version": "3.12.2"
  }
 },
 "nbformat": 4,
 "nbformat_minor": 5
}
