{
 "cells": [
  {
   "cell_type": "markdown",
   "metadata": {},
   "source": [
    "### Problema 1150 - Ultrapassando Z"
   ]
  },
  {
   "cell_type": "code",
   "execution_count": null,
   "metadata": {},
   "outputs": [],
   "source": [
    "x = int(input())\n",
    "\n",
    "while True:\n",
    "   z = int(input())\n",
    "   if z > x: break\n",
    "\n",
    "valor = 0\n",
    "for idx, i in enumerate(range(x, z)):\n",
    "    valor += i\n",
    "    if valor > z: break\n",
    "\n",
    "print(f\"{idx+1}\")"
   ]
  }
 ],
 "metadata": {
  "language_info": {
   "name": "python"
  }
 },
 "nbformat": 4,
 "nbformat_minor": 2
}
