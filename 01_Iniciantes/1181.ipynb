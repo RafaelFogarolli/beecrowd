{
 "cells": [
  {
   "cell_type": "markdown",
   "metadata": {},
   "source": [
    "### Problem 1181 - Linha na Matriz"
   ]
  },
  {
   "cell_type": "code",
   "execution_count": null,
   "metadata": {},
   "outputs": [],
   "source": [
    "linha = int(input())\n",
    "caracter = input()\n",
    "\n",
    "matriz = [[float(input()) for _ in range(12)] for _ in range(12)]\n",
    "\n",
    "if caracter == 'S': print(f\"{sum(matriz[linha]):.1f}\")\n",
    "else: print(f\"{sum(matriz[linha])/12:.1f}\")"
   ]
  }
 ],
 "metadata": {
  "language_info": {
   "name": "python"
  }
 },
 "nbformat": 4,
 "nbformat_minor": 2
}
