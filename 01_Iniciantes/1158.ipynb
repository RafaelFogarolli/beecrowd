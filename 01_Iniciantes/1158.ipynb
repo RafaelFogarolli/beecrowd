{
 "cells": [
  {
   "cell_type": "markdown",
   "metadata": {},
   "source": [
    "### Problema 1158 - Soma de Ímpares Consecutivos III"
   ]
  },
  {
   "cell_type": "code",
   "execution_count": null,
   "metadata": {},
   "outputs": [],
   "source": [
    "numero = int(input())\n",
    "for i in range(numero):\n",
    "    num01, num02 = map(int, input().split())\n",
    "    if num01%2 == 0: num01 += 1\n",
    "    soma = sum([num01 + 2*i for i in range(num02)])\n",
    "    print(f\"{soma}\")"
   ]
  }
 ],
 "metadata": {
  "language_info": {
   "name": "python"
  }
 },
 "nbformat": 4,
 "nbformat_minor": 2
}
