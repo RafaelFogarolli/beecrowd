{
 "cells": [
  {
   "cell_type": "markdown",
   "metadata": {},
   "source": [
    "### Problema 1134 - Tipo de Combustível"
   ]
  },
  {
   "cell_type": "code",
   "execution_count": null,
   "metadata": {},
   "outputs": [],
   "source": [
    "combustiveis = {1 : \"Alcool\", 2 : \"Gasolina\", 3 : \"Diesel\"}\n",
    "vendas = [0, 0, 0]\n",
    "\n",
    "while True:\n",
    "    x = int(input())\n",
    "    if x == 4: break\n",
    "    \n",
    "    try: vendas[x-1] += 1\n",
    "    except: pass\n",
    "    \n",
    "print(f\"MUITO OBRIGADO\")\n",
    "[print(f\"{combustiveis[i]}: {vendas[i-1]}\") for i in combustiveis.keys()]"
   ]
  }
 ],
 "metadata": {
  "language_info": {
   "name": "python"
  }
 },
 "nbformat": 4,
 "nbformat_minor": 2
}
