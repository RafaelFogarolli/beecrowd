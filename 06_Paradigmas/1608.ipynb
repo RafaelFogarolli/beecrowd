{
 "cells": [
  {
   "cell_type": "markdown",
   "metadata": {},
   "source": [
    "### Problema 1608 - Bolos da Maria"
   ]
  },
  {
   "cell_type": "code",
   "execution_count": null,
   "metadata": {},
   "outputs": [],
   "source": [
    "def total_bolos(valor_ingredientes, dinheiro, bolo):\n",
    "\n",
    "    total_igredientes, custo = bolo[0], 0\n",
    "\n",
    "    for i in range(1, len(bolo), 2):\n",
    "        ing, qnt = bolo[i], bolo[i+1]\n",
    "        vlr = valor_ingredientes[ing]\n",
    "        custo += vlr * qnt \n",
    "\n",
    "    return dinheiro//custo\n",
    "\n",
    "total_testes = int(input())\n",
    "for i in range(total_testes):\n",
    "    \n",
    "    dinheiro, ingredientes, tipos_bolos = map(int, input().split())\n",
    "    valor_ingredientes = list(map(int, input().split()))\n",
    "\n",
    "    maxima_producao = []\n",
    "    for ii in range(tipos_bolos):\n",
    "            bolo = list(map(int, input().split()))\n",
    "            maxima_producao.append(total_bolos(valor_ingredientes, dinheiro, bolo))\n",
    "    print(f\"{max(maxima_producao)}\")"
   ]
  }
 ],
 "metadata": {
  "kernelspec": {
   "display_name": ".beecrowd",
   "language": "python",
   "name": "python3"
  },
  "language_info": {
   "codemirror_mode": {
    "name": "ipython",
    "version": 3
   },
   "file_extension": ".py",
   "mimetype": "text/x-python",
   "name": "python",
   "nbconvert_exporter": "python",
   "pygments_lexer": "ipython3",
   "version": "3.12.2"
  }
 },
 "nbformat": 4,
 "nbformat_minor": 2
}
