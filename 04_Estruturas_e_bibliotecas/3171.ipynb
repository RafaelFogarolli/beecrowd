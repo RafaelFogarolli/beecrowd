{
 "cells": [
  {
   "cell_type": "markdown",
   "metadata": {},
   "source": [
    "### Problema 3171 - Cordão de Led"
   ]
  },
  {
   "cell_type": "code",
   "execution_count": null,
   "metadata": {},
   "outputs": [],
   "source": [
    "def e_conectado(i, conectados):\n",
    "    if (i[0] in conectados) | (i[1] in conectados): return True\n",
    "    else: return False\n",
    "\n",
    "def consigo_completar(conectados, n_conectados):\n",
    "    \n",
    "    for i in n_conectados:\n",
    "        if i in conectados:\n",
    "            return False\n",
    "\n",
    "    return True\n",
    "    \n",
    "total_segmentos, total_ligacoes = map(int, input().split())\n",
    "\n",
    "segmentos = []\n",
    "for i in range(total_ligacoes):\n",
    "    segmentos.append(list(map(int, input().split())))\n",
    "\n",
    "\n",
    "conectados, n_conectados = segmentos[0], []\n",
    "segmentos.pop(0)\n",
    "\n",
    "while True:\n",
    "\n",
    "    for i in segmentos:\n",
    "        if e_conectado(i, conectados):\n",
    "            conectados += i\n",
    "        else:\n",
    "            n_conectados += i\n",
    "        \n",
    "    if len(n_conectados) == 0:\n",
    "        print(\"COMPLETO\")\n",
    "        break\n",
    "    else:\n",
    "        if consigo_completar(conectados, n_conectados):\n",
    "            print(\"INCOMPLETO\")\n",
    "            break\n",
    "        n_conectados = []\n"
   ]
  }
 ],
 "metadata": {
  "kernelspec": {
   "display_name": ".beecrowd",
   "language": "python",
   "name": "python3"
  },
  "language_info": {
   "codemirror_mode": {
    "name": "ipython",
    "version": 3
   },
   "file_extension": ".py",
   "mimetype": "text/x-python",
   "name": "python",
   "nbconvert_exporter": "python",
   "pygments_lexer": "ipython3",
   "version": "3.12.2"
  }
 },
 "nbformat": 4,
 "nbformat_minor": 2
}
