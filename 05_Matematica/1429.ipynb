{
 "cells": [
  {
   "cell_type": "markdown",
   "metadata": {},
   "source": [
    "### Problema 1429 - Fatorial de Novo!"
   ]
  },
  {
   "cell_type": "code",
   "execution_count": null,
   "metadata": {},
   "outputs": [],
   "source": [
    "def fatorial(n):\n",
    "    \n",
    "    fatorial = 1\n",
    "    for i in range(1,n+1): fatorial *= i\n",
    "\n",
    "    return fatorial\n",
    "\n",
    "\n",
    "while True:\n",
    "\n",
    "    num = input()\n",
    "    if int(num) == 0: break\n",
    "\n",
    "    acm = 0\n",
    "    for idx, i in enumerate(num[::-1]):\n",
    "        acm += int(i) * fatorial(idx+1) \n",
    "    \n",
    "    print(f\"{acm}\")"
   ]
  }
 ],
 "metadata": {
  "kernelspec": {
   "display_name": ".beecrowd",
   "language": "python",
   "name": "python3"
  },
  "language_info": {
   "codemirror_mode": {
    "name": "ipython",
    "version": 3
   },
   "file_extension": ".py",
   "mimetype": "text/x-python",
   "name": "python",
   "nbconvert_exporter": "python",
   "pygments_lexer": "ipython3",
   "version": "3.12.2"
  }
 },
 "nbformat": 4,
 "nbformat_minor": 2
}
