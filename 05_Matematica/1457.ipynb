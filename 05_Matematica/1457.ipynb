{
 "cells": [
  {
   "cell_type": "markdown",
   "metadata": {},
   "source": [
    "### Problame 1457 - Oráculo de Alexandria"
   ]
  },
  {
   "cell_type": "code",
   "execution_count": null,
   "metadata": {},
   "outputs": [],
   "source": [
    "def fatorial(n, k):\n",
    "    \n",
    "    fatorial = 1\n",
    "    for i in range(n, 1, -k): fatorial *= i \n",
    "\n",
    "    return fatorial\n",
    "\n",
    "def nk_fatorial():\n",
    "\n",
    "    num = input()\n",
    "    k = num.count(\"!\")\n",
    "    n = int(num.replace(\"!\", \"\"))\n",
    "\n",
    "    return fatorial(n, k)\n",
    "\n",
    "instancias = int(input())\n",
    "\n",
    "for _ in range(instancias):\n",
    "    print(f\"{nk_fatorial()}\")"
   ]
  }
 ],
 "metadata": {
  "language_info": {
   "name": "python"
  }
 },
 "nbformat": 4,
 "nbformat_minor": 2
}
