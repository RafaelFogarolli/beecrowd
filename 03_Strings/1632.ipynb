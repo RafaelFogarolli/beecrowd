{
 "cells": [
  {
   "cell_type": "markdown",
   "metadata": {},
   "source": [
    "### Problema 1632 - Variações"
   ]
  },
  {
   "cell_type": "code",
   "execution_count": null,
   "metadata": {},
   "outputs": [],
   "source": [
    "total_testes = int(input())\n",
    "lista = ['a', 'e', 'i', 'o', 's']\n",
    "for _ in range(total_testes):\n",
    "\n",
    "    senha = input()\n",
    "    variacoes = 1\n",
    "    for i in senha:\n",
    "        if i.lower() in lista: variacoes *= 3                \n",
    "        else: variacoes *= 2\n",
    "\n",
    "    print(f\"{variacoes}\")"
   ]
  }
 ],
 "metadata": {
  "language_info": {
   "name": "python"
  }
 },
 "nbformat": 4,
 "nbformat_minor": 2
}
