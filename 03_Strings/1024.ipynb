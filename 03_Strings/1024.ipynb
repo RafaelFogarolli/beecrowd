{
 "cells": [
  {
   "cell_type": "markdown",
   "metadata": {},
   "source": [
    "## Problema 1024 - Criptografia\n",
    "\n",
    "Solicitaram para que você construisse um programa simples de criptografia. Este programa deve possibilitar enviar mensagens codificadas sem que alguém consiga lê-las. O processo é muito simples. São feitas três passadas em todo o texto.\n",
    "\n",
    "Na primeira passada, somente caracteres que sejam letras minúsculas e maiúsculas devem ser deslocadas 3 posições para a direita, segundo a tabela ASCII: letra 'a' deve virar letra 'd', letra 'y' deve virar caractere '|' e assim sucessivamente. Na segunda passada, a linha deverá ser invertida. Na terceira e última passada, todo e qualquer caractere a partir da metade em diante (truncada) devem ser deslocados uma posição para a esquerda na tabela ASCII. Neste caso, 'b' vira 'a' e 'a' vira '`'.\n",
    "\n",
    "Por exemplo, se a entrada for “Texto #3”, o primeiro processamento sobre esta entrada deverá produzir “Wh{wr #3”. O resultado do segundo processamento inverte os caracteres e produz “3# rw{hW”. Por último, com o deslocamento dos caracteres da metade em diante, o resultado final deve ser “3# rvzgV”.\n",
    "\n",
    "**Entrada:**\n",
    "A entrada contém vários casos de teste. A primeira linha de cada caso de teste contém um inteiro N (1 ≤ N ≤ 1*104), indicando a quantidade de linhas que o problema deve tratar. As N linhas contém cada uma delas M (1 ≤ M ≤ 1*103) caracteres.\n",
    "\n",
    "**Saída:**\n",
    "Para cada entrada, deve-se apresentar a mensagem criptografada."
   ]
  },
  {
   "cell_type": "code",
   "execution_count": 104,
   "metadata": {},
   "outputs": [
    {
     "name": "stdout",
     "output_type": "stream",
     "text": [
      "3# rvzgV\n",
      "1FECedc\n",
      "ks. \\n{frzx\n",
      "gi.r{hyz-xx\n"
     ]
    }
   ],
   "source": [
    "total_testes = int(input())\n",
    "\n",
    "while total_testes > 0:\n",
    "\n",
    "    texto = input()\n",
    "    tamanho_string = -((len(texto) + 1) // 2)\n",
    "\n",
    "    # Passo 01 e 02.\n",
    "    new_texto = [ord(caractere) + 3  if caractere.isalpha() else ord(caractere) for caractere in reversed(texto)]\n",
    "    # Passo 03\n",
    "    new_texto[tamanho_string:] = [numero - 1 for numero in new_texto[tamanho_string:]]\n",
    "\n",
    "    new_texto = ''.join([chr(numero) for numero in new_texto])\n",
    "    print(f\"{new_texto}\")\n",
    "    \n",
    "    total_testes -= 1\n"
   ]
  },
  {
   "cell_type": "code",
   "execution_count": 98,
   "metadata": {},
   "outputs": [
    {
     "data": {
      "text/plain": [
       "-5"
      ]
     },
     "execution_count": 98,
     "metadata": {},
     "output_type": "execute_result"
    }
   ],
   "source": []
  },
  {
   "cell_type": "code",
   "execution_count": null,
   "metadata": {},
   "outputs": [],
   "source": []
  },
  {
   "cell_type": "code",
   "execution_count": null,
   "metadata": {},
   "outputs": [],
   "source": []
  }
 ],
 "metadata": {
  "kernelspec": {
   "display_name": ".beecrowd",
   "language": "python",
   "name": "python3"
  },
  "language_info": {
   "codemirror_mode": {
    "name": "ipython",
    "version": 3
   },
   "file_extension": ".py",
   "mimetype": "text/x-python",
   "name": "python",
   "nbconvert_exporter": "python",
   "pygments_lexer": "ipython3",
   "version": "3.12.2"
  }
 },
 "nbformat": 4,
 "nbformat_minor": 2
}
