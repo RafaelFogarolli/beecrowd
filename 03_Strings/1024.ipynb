{
 "cells": [
  {
   "cell_type": "markdown",
   "metadata": {},
   "source": [
    "## Problema 1024 - Criptografia"
   ]
  },
  {
   "cell_type": "code",
   "execution_count": null,
   "metadata": {},
   "outputs": [],
   "source": [
    "total_testes = int(input())\n",
    "\n",
    "while total_testes > 0:\n",
    "\n",
    "    texto = input()\n",
    "    tamanho_string = -((len(texto) + 1) // 2)\n",
    "\n",
    "    # Passo 01 e 02.\n",
    "    new_texto = [ord(caractere) + 3  if caractere.isalpha() else ord(caractere) for caractere in reversed(texto)]\n",
    "    # Passo 03\n",
    "    new_texto[tamanho_string:] = [numero - 1 for numero in new_texto[tamanho_string:]]\n",
    "\n",
    "    new_texto = ''.join([chr(numero) for numero in new_texto])\n",
    "    print(f\"{new_texto}\")\n",
    "    \n",
    "    total_testes -= 1\n"
   ]
  }
 ],
 "metadata": {
  "kernelspec": {
   "display_name": ".beecrowd",
   "language": "python",
   "name": "python3"
  },
  "language_info": {
   "codemirror_mode": {
    "name": "ipython",
    "version": 3
   },
   "file_extension": ".py",
   "mimetype": "text/x-python",
   "name": "python",
   "nbconvert_exporter": "python",
   "pygments_lexer": "ipython3",
   "version": "3.12.2"
  }
 },
 "nbformat": 4,
 "nbformat_minor": 2
}
