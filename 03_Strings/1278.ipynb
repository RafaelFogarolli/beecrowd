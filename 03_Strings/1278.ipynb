{
 "cells": [
  {
   "cell_type": "markdown",
   "metadata": {},
   "source": [
    "### Problema 1278 - Justificador II"
   ]
  },
  {
   "cell_type": "code",
   "execution_count": null,
   "metadata": {},
   "outputs": [],
   "source": [
    "x = -1\n",
    "while True:\n",
    "\n",
    "    total_linhas = int(input())\n",
    "    if total_linhas == 0: break\n",
    "    if x >= 0 : print(f\"\")\n",
    "\n",
    "    texto = [' '.join(input().split()) for i in range(total_linhas)]\n",
    "    x = max([len(i) for i in texto])\n",
    "\n",
    "    for i in texto:\n",
    "        recuo = (x - len(i))\n",
    "        print(f\" \" * recuo + f\"{i}\")\n"
   ]
  }
 ],
 "metadata": {
  "kernelspec": {
   "display_name": ".beecrowd",
   "language": "python",
   "name": "python3"
  },
  "language_info": {
   "codemirror_mode": {
    "name": "ipython",
    "version": 3
   },
   "file_extension": ".py",
   "mimetype": "text/x-python",
   "name": "python",
   "nbconvert_exporter": "python",
   "pygments_lexer": "ipython3",
   "version": "3.12.2"
  }
 },
 "nbformat": 4,
 "nbformat_minor": 2
}
