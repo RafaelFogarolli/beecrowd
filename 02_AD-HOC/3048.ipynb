{
 "cells": [
  {
   "cell_type": "markdown",
   "metadata": {},
   "source": [
    "### Problema 3048 - Sequência Secreta"
   ]
  },
  {
   "cell_type": "code",
   "execution_count": null,
   "metadata": {},
   "outputs": [],
   "source": [
    "total_numeros = int(input())\n",
    "sequencia = [int(input()) for _ in range(total_numeros)]\n",
    "sequencia_real = [sequencia[0]]\n",
    "\n",
    "[sequencia_real.append(i)   for i in sequencia[1:] if i != sequencia_real[-1]]\n",
    "\n",
    "print(f\"{len(sequencia_real)}\")"
   ]
  }
 ],
 "metadata": {
  "language_info": {
   "name": "python"
  }
 },
 "nbformat": 4,
 "nbformat_minor": 2
}
