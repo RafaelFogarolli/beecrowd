{
 "cells": [
  {
   "cell_type": "markdown",
   "metadata": {},
   "source": [
    "### Problema 1428 - Procurando Nessy"
   ]
  },
  {
   "cell_type": "code",
   "execution_count": null,
   "metadata": {},
   "outputs": [],
   "source": [
    "total_casos = int(input())\n",
    "\n",
    "for i in range(total_casos):\n",
    "\n",
    "    x, y = map(int, input().split())\n",
    "\n",
    "    sonares_extras_x = ((x - 6) // 3) * 2\n",
    "    sonares_extras_y = ((y - 6) // 3) * (x // 3)\n",
    "\n",
    "    minimo = 4 + sonares_extras_x + sonares_extras_y\n",
    "    print(f\"{minimo}\")"
   ]
  }
 ],
 "metadata": {
  "kernelspec": {
   "display_name": ".beecrowd",
   "language": "python",
   "name": "python3"
  },
  "language_info": {
   "codemirror_mode": {
    "name": "ipython",
    "version": 3
   },
   "file_extension": ".py",
   "mimetype": "text/x-python",
   "name": "python",
   "nbconvert_exporter": "python",
   "pygments_lexer": "ipython3",
   "version": "3.12.2"
  }
 },
 "nbformat": 4,
 "nbformat_minor": 2
}
