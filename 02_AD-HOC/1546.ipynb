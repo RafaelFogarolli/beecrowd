{
 "cells": [
  {
   "cell_type": "markdown",
   "metadata": {},
   "source": [
    "### Problema 1546 - Feedback"
   ]
  },
  {
   "cell_type": "code",
   "execution_count": null,
   "metadata": {},
   "outputs": [],
   "source": [
    "membros = { 1 : \"Rolien\", \n",
    "            2 : \"Naej\", \n",
    "            3 : \"Elehcim\", \n",
    "            4 : \"Odranoel\"}\n",
    "\n",
    "total_teste = int(input())\n",
    "for _ in range(total_teste):\n",
    "    total_feedbacks = int(input())\n",
    "    for _ in range(total_feedbacks):\n",
    "\n",
    "        print(f\"{membros[int(input())]}\")"
   ]
  }
 ],
 "metadata": {
  "kernelspec": {
   "display_name": ".beecrowd",
   "language": "python",
   "name": "python3"
  },
  "language_info": {
   "codemirror_mode": {
    "name": "ipython",
    "version": 3
   },
   "file_extension": ".py",
   "mimetype": "text/x-python",
   "name": "python",
   "nbconvert_exporter": "python",
   "pygments_lexer": "ipython3",
   "version": "3.12.2"
  }
 },
 "nbformat": 4,
 "nbformat_minor": 2
}
