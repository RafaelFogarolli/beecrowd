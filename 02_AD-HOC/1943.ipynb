{
 "cells": [
  {
   "cell_type": "markdown",
   "metadata": {},
   "source": [
    "### Problema 1943 - Top N"
   ]
  },
  {
   "cell_type": "code",
   "execution_count": null,
   "metadata": {},
   "outputs": [],
   "source": [
    "categorias = [1, 3, 5, 10, 25, 50, 100]\n",
    "posicao = int(input())\n",
    "\n",
    "for i in categorias:\n",
    "    if posicao <= i:\n",
    "        print(f\"Top {i}\")\n",
    "        break"
   ]
  }
 ],
 "metadata": {
  "language_info": {
   "name": "python"
  }
 },
 "nbformat": 4,
 "nbformat_minor": 2
}
