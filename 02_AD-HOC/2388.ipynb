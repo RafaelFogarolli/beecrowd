{
 "cells": [
  {
   "cell_type": "markdown",
   "metadata": {},
   "source": [
    "### Problema 2388 - Tacógrafo"
   ]
  },
  {
   "cell_type": "code",
   "execution_count": null,
   "metadata": {},
   "outputs": [],
   "source": [
    "total_intervalos = int(input())\n",
    "intervalos = [list(map(int, input().split())) for _ in range(total_intervalos)]\n",
    "total_percorrido = sum([i[0] * i[1] for i in intervalos])\n",
    "\n",
    "print(f\"{total_percorrido}\")\n"
   ]
  }
 ],
 "metadata": {
  "language_info": {
   "name": "python"
  }
 },
 "nbformat": 4,
 "nbformat_minor": 2
}
