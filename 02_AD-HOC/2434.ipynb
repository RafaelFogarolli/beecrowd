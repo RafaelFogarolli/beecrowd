{
 "cells": [
  {
   "cell_type": "markdown",
   "metadata": {},
   "source": [
    "### Problema 2434 - Saldo do Vovô"
   ]
  },
  {
   "cell_type": "code",
   "execution_count": null,
   "metadata": {},
   "outputs": [],
   "source": [
    "dias, saldo = map(int, input().split())\n",
    "saldo = [saldo]\n",
    "for i in range(dias): saldo.append( saldo[-1] + int(input()))\n",
    "print(f\"{min(saldo)}\")"
   ]
  }
 ],
 "metadata": {
  "language_info": {
   "name": "python"
  }
 },
 "nbformat": 4,
 "nbformat_minor": 2
}
