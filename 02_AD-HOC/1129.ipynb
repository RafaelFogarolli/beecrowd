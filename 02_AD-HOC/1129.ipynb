{
 "cells": [
  {
   "cell_type": "markdown",
   "metadata": {},
   "source": [
    "### Problema 1129 - Leitura Ótica"
   ]
  },
  {
   "cell_type": "code",
   "execution_count": null,
   "metadata": {},
   "outputs": [],
   "source": [
    "def resposta_marcada(resposta):\n",
    "    gabarito = {0 : 'A', 1 : 'B', 2 : 'C', 3 : 'D', 4 : 'E'}\n",
    "    final = []\n",
    "\n",
    "    for idx, i in enumerate(resposta):\n",
    "        if i <= 127:\n",
    "            final.append(gabarito[idx])\n",
    "    \n",
    "    if len(final) == 1: return print(f\"{final[0]}\")\n",
    "    else: print(f\"*\")\n",
    "\n",
    "while True:\n",
    "\n",
    "    numero_questoes = int(input())\n",
    "    if numero_questoes == 0: break\n",
    "\n",
    "    for i in range(numero_questoes):\n",
    "        resposta = list(map(int, input().split())) \n",
    "        resposta_marcada(resposta)"
   ]
  }
 ],
 "metadata": {
  "kernelspec": {
   "display_name": ".beecrowd",
   "language": "python",
   "name": "python3"
  },
  "language_info": {
   "codemirror_mode": {
    "name": "ipython",
    "version": 3
   },
   "file_extension": ".py",
   "mimetype": "text/x-python",
   "name": "python",
   "nbconvert_exporter": "python",
   "pygments_lexer": "ipython3",
   "version": "3.12.2"
  }
 },
 "nbformat": 4,
 "nbformat_minor": 2
}
