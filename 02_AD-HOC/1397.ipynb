{
 "cells": [
  {
   "cell_type": "markdown",
   "metadata": {},
   "source": [
    "### Problema 1397 - Jogo do Maior"
   ]
  },
  {
   "cell_type": "code",
   "execution_count": null,
   "metadata": {},
   "outputs": [],
   "source": [
    "while True:\n",
    "\n",
    "    rodadas = int(input())\n",
    "    if rodadas == 0: break\n",
    "    \n",
    "    pt1, pt2 = 0, 0\n",
    "    for i in range(rodadas):\n",
    "        a, b = map(int, input().split())\n",
    "        if a > b: pt1 += 1\n",
    "        elif a < b: pt2 += 1\n",
    "    \n",
    "    print(f\"{pt1} {pt2}\")    "
   ]
  }
 ],
 "metadata": {
  "language_info": {
   "name": "python"
  }
 },
 "nbformat": 4,
 "nbformat_minor": 2
}
