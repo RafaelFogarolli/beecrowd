{
 "cells": [
  {
   "cell_type": "markdown",
   "metadata": {},
   "source": [
    "### Problema 1091 - Divisão da Nlogônia"
   ]
  },
  {
   "cell_type": "code",
   "execution_count": null,
   "metadata": {},
   "outputs": [],
   "source": [
    "def posicao(x0, y0, x1, y1):\n",
    "    \n",
    "    pais = ''\n",
    "       \n",
    "    if (x1 < x0): pais += 'S' \n",
    "    else: pais += 'N'\n",
    "    if (y1 < y0): pais += 'O'\n",
    "    else: pais += 'E'\n",
    "\n",
    "    return pais\n",
    "\n",
    "\n",
    "\n",
    "while(True):\n",
    "    \n",
    "    consultas_realizadas = int(input())\n",
    "    if consultas_realizadas == 0: break\n",
    "\n",
    "    y0, x0 = map(int, input().split()) \n",
    "    for i in range(consultas_realizadas):\n",
    "        y1, x1 = map(int, input().split()) \n",
    "        if (x1 == x0) | ( y1 == y0):\n",
    "            print(\"divisa\")\n",
    "        else: \n",
    "            pais = posicao(x0, y0, x1, y1)\n",
    "            print(f\"{pais}\")\n"
   ]
  }
 ],
 "metadata": {
  "kernelspec": {
   "display_name": ".beecrowd",
   "language": "python",
   "name": "python3"
  },
  "language_info": {
   "codemirror_mode": {
    "name": "ipython",
    "version": 3
   },
   "file_extension": ".py",
   "mimetype": "text/x-python",
   "name": "python",
   "nbconvert_exporter": "python",
   "pygments_lexer": "ipython3",
   "version": "3.12.2"
  }
 },
 "nbformat": 4,
 "nbformat_minor": 2
}
