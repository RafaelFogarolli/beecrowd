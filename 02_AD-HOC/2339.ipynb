{
 "cells": [
  {
   "cell_type": "markdown",
   "metadata": {},
   "source": [
    "### Problema - 2339 - Aviões de Papel"
   ]
  },
  {
   "cell_type": "code",
   "execution_count": null,
   "metadata": {},
   "outputs": [],
   "source": [
    "competidores, total_papel, papel_compet =  map(int, input().split())\n",
    "if competidores * papel_compet <= total_papel: print(f\"S\")\n",
    "else: print(f\"N\")"
   ]
  }
 ],
 "metadata": {
  "language_info": {
   "name": "python"
  }
 },
 "nbformat": 4,
 "nbformat_minor": 2
}
