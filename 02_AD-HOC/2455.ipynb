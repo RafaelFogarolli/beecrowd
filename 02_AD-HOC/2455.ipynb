{
 "cells": [
  {
   "cell_type": "markdown",
   "metadata": {},
   "source": [
    "### Problema 2455 - Gangorra"
   ]
  },
  {
   "cell_type": "code",
   "execution_count": null,
   "metadata": {},
   "outputs": [],
   "source": [
    "# Crianca01, Comprimento 01, Crianca02, Comprimento 02,\n",
    "entradas =  list(map(int, input().split()))\n",
    "esq = entradas[0] * entradas[1]\n",
    "dir = entradas[2] * entradas[3]\n",
    "\n",
    "if esq == dir: print(f\"0\")\n",
    "elif esq < dir: print(f\"1\")\n",
    "else: print(f\"-1\")"
   ]
  }
 ],
 "metadata": {
  "language_info": {
   "name": "python"
  }
 },
 "nbformat": 4,
 "nbformat_minor": 2
}
