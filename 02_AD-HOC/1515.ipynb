{
 "cells": [
  {
   "cell_type": "markdown",
   "metadata": {},
   "source": [
    "### Problema 1515 - Hello Galaxy"
   ]
  },
  {
   "cell_type": "code",
   "execution_count": null,
   "metadata": {},
   "outputs": [],
   "source": [
    "while True:\n",
    "\n",
    "    total_teste = int(input())\n",
    "    if total_teste == 0: break\n",
    "\n",
    "    mensagens = [list(map(str, input().split())) for _ in range(total_teste)]\n",
    "    mais_antigo = [int(i[1]) - int(i[2]) for i in mensagens]\n",
    "    mais_antigo = mais_antigo.index(min(mais_antigo))\n",
    "    print(f\"{mensagens[mais_antigo][0]}\")\n",
    "\n",
    "\n"
   ]
  }
 ],
 "metadata": {
  "kernelspec": {
   "display_name": ".beecrowd",
   "language": "python",
   "name": "python3"
  },
  "language_info": {
   "codemirror_mode": {
    "name": "ipython",
    "version": 3
   },
   "file_extension": ".py",
   "mimetype": "text/x-python",
   "name": "python",
   "nbconvert_exporter": "python",
   "pygments_lexer": "ipython3",
   "version": "3.12.2"
  }
 },
 "nbformat": 4,
 "nbformat_minor": 2
}
